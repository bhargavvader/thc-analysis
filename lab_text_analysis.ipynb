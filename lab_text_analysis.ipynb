{
 "cells": [
  {
   "cell_type": "markdown",
   "metadata": {},
   "source": [
    "## Lab Text Analysis\n",
    "\n",
    "We will start by creaitng a pipeline which allows us to group the lab data into the amounts of thc or age."
   ]
  },
  {
   "cell_type": "code",
   "execution_count": 1,
   "metadata": {},
   "outputs": [],
   "source": [
    "study_data = {}"
   ]
  },
  {
   "cell_type": "code",
   "execution_count": 2,
   "metadata": {},
   "outputs": [],
   "source": [
    "old_placebo = []\n",
    "young_placebo = []\n",
    "old_thc = []\n",
    "young_thc = []"
   ]
  },
  {
   "cell_type": "code",
   "execution_count": 3,
   "metadata": {},
   "outputs": [],
   "source": [
    "import os\n",
    "import spacy\n",
    "import gensim\n",
    "from gensim.corpora import Dictionary\n",
    "from gensim.models import LdaModel\n",
    "from gensim.models import TfidfModel\n",
    "\n"
   ]
  },
  {
   "cell_type": "code",
   "execution_count": 4,
   "metadata": {},
   "outputs": [],
   "source": [
    "errors = []"
   ]
  },
  {
   "cell_type": "code",
   "execution_count": 5,
   "metadata": {},
   "outputs": [],
   "source": [
    "old_7_5 = []\n",
    "old_15 = []\n",
    "young_7_5 = []\n",
    "young_15 = []"
   ]
  },
  {
   "cell_type": "code",
   "execution_count": 6,
   "metadata": {},
   "outputs": [
    {
     "name": "stdout",
     "output_type": "stream",
     "text": [
      "YOUNG 7.5mgTHC.txt\n",
      "YOUNG 7.5mgTHC.txt\n",
      "OLD 7.5mgTHC.txt\n",
      "Young 15mg.txt\n",
      "YOUNG 7.5mgTHC.txt\n",
      "YOUNG 15mgTHC.txt\n",
      "OLD 15mgTHC.txt\n",
      "YOUNG_ART005.1_15mgTHC_DROPPEDafterfirstsession.txt\n",
      "OLD 0mgTHC.txt\n",
      "Old 15mg.txt\n",
      "OLD 0mgTHC.txt\n",
      "Young 15mg.txt\n",
      "OLD 7.5mg.rtf\n",
      ".DS_Store\n",
      "Old 0mg.txt\n",
      "Young 0mg.txt\n",
      "YOUNG 15mgTHC.txt\n",
      "OLD 15mgTHC.txt\n",
      "Old 0mg.txt\n",
      "YOUNG 0mgTHC.txt\n",
      "ART Speech\n",
      "OLD 0mgTHC.txt\n",
      "Old 15mg.txt\n",
      "YOUNG 7.5mg.rtf\n",
      "OLD 0mgTHC.txt\n",
      "YOUNG 0mgTHC.txt\n",
      "OLD 0mgTHC.txt\n",
      "OLD 0mgTHC.txt\n",
      "OLD 7.5mgTHC.txt\n",
      "YOUNG 15mgTHC.txt\n",
      "YOUNG 0mg.rtf\n",
      "OLD 7.5mgTHC.txt\n",
      "YOUNG 15mgTHC.txt\n",
      "Young 7.5mg.txt\n",
      "OLD 15mgTHC.txt\n",
      "OLD 0mg.rtf\n",
      "YOUNG 7.5mgTHC.txt\n",
      "Young 0mg.txt\n",
      "Old 7.5mg.txt\n",
      "YOUNG 7.5mgTHC.txt\n",
      "YOUNG 7.5mgTHC.txt\n",
      "Old 0mg.txt\n",
      "YOUNG_ART016.2_15mgTHC_ButDrugOnsetLate.txt\n",
      "OLD 7.5mgTHC.txt\n",
      "OLD 15mgTHC.txt\n",
      "YOUNG 0mgTHC.txt\n",
      "OLD 15mgTHC.txt\n",
      "OLD 15mgTHC.txt\n",
      "OLD 15mgTHC.txt\n",
      "YOUNG 15mgTHC.txt\n",
      "OLD 7.5mgTHC.txt\n",
      "YOUNG 7.5mgTHC.txt\n",
      "YOUNG 0mgTHC.txt\n",
      "Old 15mg.txt\n",
      "YOUNG 15mgTHC.txt\n",
      "OLD 7.5mgTHC.txt\n",
      "YOUNG 15mgTHC.txt\n",
      "Old 7.5mg.txt\n",
      "OLD 7.5mgTHC.txt\n",
      "YOUNG 15mgTHC.txt\n",
      "Young 15mg.rtf\n",
      "YOUNG 15mgTHC.txt\n",
      "Old 15mg.txt\n",
      "YOUNG 0mgTHC.txt\n",
      "OLD  7.5mgTHC.txt\n",
      "YOUNG 0mgTHC.txt\n",
      "YOUNG 0mgTHC.txt\n",
      "YOUNG 0mgTHC.txt\n",
      "YOUNG 0mgTHC.txt\n",
      "YOUNG 7.5mgTHC.txt\n",
      "OLD 0mgTHC.txt\n",
      "Old 7.5mg.txt\n",
      "OLD 0mgTHC.txt\n",
      "YOUNG 7.5mgTHC.txt\n",
      "YOUNG 0mgTHC.txt\n",
      "Young 7.5mg.txt\n",
      "OLD 15mgTHC.txt\n",
      "YOUNG 7.5mgTHC.txt\n",
      "OLD 0mgTHC.txt\n",
      "OLD 7.5mgTHC.txt\n",
      "OLD 15mgTHC.txt\n"
     ]
    }
   ],
   "source": [
    "for filename in os.listdir(\"ART text/\"):\n",
    "    try:\n",
    "        group, rest = filename.split(\"_ART\")\n",
    "        junk, amount = rest.split(\"_\")\n",
    "        texts = []\n",
    "        \n",
    "        for line in open(\"ART text/\" + filename):\n",
    "            texts.append(line.replace(\"\\\\\", \"\").replace(\"\\n\", \"\").replace(\"f1\", \"\").replace(\"\\\\i\", \"\").replace(\"f0\", \"\").strip())\n",
    "        \n",
    "        study_data[filename.split(\".txt\")[0]] = texts\n",
    "        \n",
    "        if group.lower() == \"young\":\n",
    "            if \"0mg\" in amount:\n",
    "                young_placebo.append(texts)\n",
    "            else:\n",
    "                young_thc.append(texts)\n",
    "                if \"7.5mg\" in amount:\n",
    "                    young_7_5.append(texts)\n",
    "                if \"15mg\" in amount:\n",
    "                    young_15.append(texts)\n",
    "        if group.lower() == \"old\":\n",
    "            if \"0mg\" in amount:\n",
    "                old_placebo.append(texts)\n",
    "            else:\n",
    "                old_thc.append(texts)\n",
    "                if \"7.5mg\" in amount:\n",
    "                    old_7_5.append(texts)\n",
    "                if \"15mg\" in amount:\n",
    "                    old_15.append(texts)\n",
    "        print(group, amount)\n",
    "    except ValueError:\n",
    "        errors.append(filename)\n",
    "        print(filename)"
   ]
  },
  {
   "cell_type": "code",
   "execution_count": 7,
   "metadata": {},
   "outputs": [
    {
     "data": {
      "text/plain": [
       "['YOUNG_ART005.1_15mgTHC_DROPPEDafterfirstsession.txt',\n",
       " '.DS_Store',\n",
       " 'ART Speech',\n",
       " 'YOUNG_ART016.2_15mgTHC_ButDrugOnsetLate.txt']"
      ]
     },
     "execution_count": 7,
     "metadata": {},
     "output_type": "execute_result"
    }
   ],
   "source": [
    "errors"
   ]
  },
  {
   "cell_type": "code",
   "execution_count": 8,
   "metadata": {},
   "outputs": [
    {
     "data": {
      "text/plain": [
       "(13, 13, 25, 26)"
      ]
     },
     "execution_count": 8,
     "metadata": {},
     "output_type": "execute_result"
    }
   ],
   "source": [
    "len(young_placebo), len(old_placebo), len(young_thc), len(old_thc)"
   ]
  },
  {
   "cell_type": "code",
   "execution_count": 9,
   "metadata": {},
   "outputs": [
    {
     "data": {
      "text/plain": [
       "(13, 12, 13, 13)"
      ]
     },
     "execution_count": 9,
     "metadata": {},
     "output_type": "execute_result"
    }
   ],
   "source": [
    "len(young_7_5), len(young_15), len(old_7_5), len(old_15)"
   ]
  },
  {
   "cell_type": "code",
   "execution_count": 10,
   "metadata": {},
   "outputs": [
    {
     "data": {
      "text/plain": [
       "[['I feel fine right now.',\n",
       "  \"I'm not sure if it's because I got a placebo or the effects haven't hit me yet.\",\n",
       "  \"I'm kind of anxious to see if I will start feeling anything soon, but I hope I don't.\",\n",
       "  ''],\n",
       " ['Not really feeling anything out of the norm.',\n",
       "  'Zoning out, could be out of boredom.',\n",
       "  'Hungry, drowsy.'],\n",
       " ['I feel dreamy, appreciate music, less tingly, hungry, dry mouth, difficult to focus.',\n",
       "  'Lack of sleep plus placebo? might explain things.',\n",
       "  \"Bit of a veil, not on one's experience.\",\n",
       "  \"If I'm on placebo, sorry for being this way.\"],\n",
       " ['I am feeling fairy close to a normal state.',\n",
       "  'I tend to be fairly energetic and anxious so this degree ion calm is greatly abnormal to me. That said, it may also just Abe a result of having some time to myself in a quit room.',\n",
       "  'As far as physiological sensations, my',\n",
       "  'i illegible illegible',\n",
       "  'i0  a bit easier and my limbs feel slightly heavy.',\n",
       "  \"I can't tell if I'm just looking to sensations, but I'm moving with a bit less ease.\",\n",
       "  'I was able to write a few pages about thirty minutes ago, so cognitively I feel fine. The main difference is mood wise. I definitely feel less of an edge and anxious.',\n",
       "  'I have a fairly quick mind to my comprehension I feel slightly dull. Again, that may just be increased control in this environment, as I was a bit nervous coming in today.',\n",
       "  'I have noticed my breathing has slowed as well and my heart rate is steady.',\n",
       "  'I am not experiencing any shakiness. Really, just a sense of calm, which is quite unusual for me. Sorry about my poor handwriting, I hope this helps! }'],\n",
       " ['I feel pretty much normal today/right now.',\n",
       "  \"I'm a little tired, which is normal and otherwise feel fine.\",\n",
       "  'Not really sure what else to write here.'],\n",
       " ['I feel very normal.',\n",
       "  \"I don't really feel high.\",\n",
       "  'My back is sore from working out yesterday.',\n",
       "  \"I'm hungry.\",\n",
       "  'I feel like I could meditate right now.',\n",
       "  'I feel pretty good about how much I slept today.',\n",
       "  \"I'm slightly stressed because of elections and how much homework I have to do.\",\n",
       "  \"Although, it's ok because elections are stressful and we can only hope.\",\n",
       "  \"I'm trying to keep myself distracted until results are out.\",\n",
       "  'AH, I just remembered I have boba in the fridge. >:)'],\n",
       " ['I spent a while looking at the candle, and I found that experience really fun, which is weird.',\n",
       "  'Mostly my attention is spread out among a ton of different thoughts and sensations, but looking at the candle was entrancing.',\n",
       "  'I must have been looking for too long though, because when I looked away my vision was a bit hazy.',\n",
       "  'I think my bodily sensations are entirely normal but my thoughts are incredibly clear and also fleeting, which is a strange combination.',\n",
       "  'I also keep hanging on to tangential thoughts/observations.',\n",
       "  \"For several minutes now I've felt reminded of my pal Sarah's dorm room by the Christmas lights.\"],\n",
       " ['I feel normal+mellow, albeit a little tired.',\n",
       "  \"However, I'm working on homework which is always draining.\",\n",
       "  'I feel steady & aware.',\n",
       "  \"I'm comfortable & [low key] could take a nap right now.\",\n",
       "  \"I don't have much else to report.\"],\n",
       " ['Feeling fairly normal.',\n",
       "  'Alert, awake, not drowsy.',\n",
       "  'Normal feelings of productivity, happiness.',\n",
       "  'Just a bit high.',\n",
       "  'As if: took an edible.',\n",
       "  'Relaxed, content.'],\n",
       " ['I feel very sober, maybe I got the stimulant, but certainly not an intoxicating amount!',\n",
       "  \"I guess I'm a little bored, but happy that I'll have a finished grocery list to take to the store.\",\n",
       "  \"I'm a little fidgety, but might just be boredom.\",\n",
       "  'I wonder if my sober handwriting is better, I remember I was appalled last time.'],\n",
       " ['I feel pretty normal overall, and I’m pretty sure I got the placebo pill.',\n",
       "  'I felt tired, jittery, and excited for the first 20 minutes or so after taking the pill, which is the time that I should have felt normal.',\n",
       "  \"I don’t feel tense or nervous, and perhaps it's me waiting up more over time or being excited by the circumstances, but I think I’m at a bit of a higher sober energy level.\",\n",
       "  'I started watching Ferris Bueller on website on my laptop.',\n",
       "  'This is important because I’m normally really bad at getting myself to watch “good” media in my normal environment.',\n",
       "  '(I normally stick to crappy YouTube videos that are easily accessible.)',\n",
       "  'As for bodily sensations, I feel almost completely normal.',\n",
       "  'A tad less conscious of my limbs perhaps, but that might be because I haven’t been using them much.',\n",
       "  'Not very hungry, odd given I haven’t eaten besides the granola bar.'],\n",
       " [\"I'm feeling pretty okay.\",\n",
       "  \"I haven't noticed any unusual thoughts for sensations.\",\n",
       "  \"I'm not very good at meditating, my dad is though and always makes me try.\",\n",
       "  'My brain feels pretty empty already.',\n",
       "  \"I'm just thinking about stuff I should get done before October starts.\"],\n",
       " [\"1. I don't feel anything other than movement being slower than usual.\",\n",
       "  \"2. The drug doesn't seem to have effect on my mental state.\",\n",
       "  '3. I might have had placebo?',\n",
       "  \"But it did affect me physically so I'm not sure.\"]]"
      ]
     },
     "execution_count": 10,
     "metadata": {},
     "output_type": "execute_result"
    }
   ],
   "source": [
    "young_placebo"
   ]
  },
  {
   "cell_type": "code",
   "execution_count": 11,
   "metadata": {},
   "outputs": [],
   "source": [
    "nlp = spacy.load(\"en_core_web_sm\")"
   ]
  },
  {
   "cell_type": "code",
   "execution_count": 12,
   "metadata": {},
   "outputs": [],
   "source": [
    "import operator"
   ]
  },
  {
   "cell_type": "code",
   "execution_count": 13,
   "metadata": {},
   "outputs": [],
   "source": [
    "stop_words = [\"uh\", \"oh\", \"um\", \"like\", \"thing\", \"yeah\"]"
   ]
  },
  {
   "cell_type": "code",
   "execution_count": 29,
   "metadata": {},
   "outputs": [],
   "source": [
    "def clean_texts(texts):\n",
    "    cleaned_texts = []\n",
    "    cleaned_text = []\n",
    "    \n",
    "    for text in texts:\n",
    "        doc = nlp(text.lower())\n",
    "        for w in doc:\n",
    "            # if it's not a stop word or punctuation mark, add it to our article!\n",
    "            if w.text != '\\n' and not w.is_stop and not w.is_punct and not w.like_num and w.text != 'I':\n",
    "                # we add the lematized version of the word\n",
    "                word = str(w).strip()\n",
    "                # do we want = > <\n",
    "                if word != '' and word != '=' and word != \">\" and word != \"<\" and word not in stop_words:\n",
    "                    cleaned_text.append(word)\n",
    "        cleaned_texts.append(cleaned_text)\n",
    "        cleaned_text = []\n",
    "        \n",
    "    bigram = gensim.models.Phrases(cleaned_texts)\n",
    "    cleaned_texts = [bigram[line] for line in cleaned_texts]\n",
    "    cleaned_words = []\n",
    "    for text in cleaned_texts:\n",
    "        for word in text:\n",
    "            cleaned_words.append(word)\n",
    "    return cleaned_words"
   ]
  },
  {
   "cell_type": "code",
   "execution_count": 30,
   "metadata": {},
   "outputs": [],
   "source": [
    "def text_summaries(texts):\n",
    "    total_docs = len(texts)\n",
    "    avg_len = 0\n",
    "    for text in texts:\n",
    "        avg_len += len(text)\n",
    "    avg_len /= total_docs\n",
    "    \n",
    "    cleaned_texts = []\n",
    "    for text in texts:\n",
    "        cleaned_texts.append(clean_texts(text))\n",
    "    \n",
    "    word_use = {}\n",
    "    for text in cleaned_texts:\n",
    "        for word in text:\n",
    "            if word not in word_use:\n",
    "                word_use[word] = 0\n",
    "            if word in word_use:\n",
    "                word_use[word] += 1\n",
    "    \n",
    "    sorted_words = sorted(word_use.items(), key=operator.itemgetter(1))\n",
    "    sorted_words.reverse()\n",
    "\n",
    "    dictionary = Dictionary(cleaned_texts)\n",
    "    corpus = [dictionary.doc2bow(text) for text in cleaned_texts]\n",
    "    ldamodel = LdaModel(corpus=corpus, num_topics=2, id2word=dictionary, passes=10, iterations=500)\n",
    "    \n",
    "    tf_idf_model = TfidfModel(corpus)\n",
    "    tf_idf_texts = tf_idf_model[corpus]\n",
    "    \n",
    "    d = {dictionary.get(id): value for doc in tf_idf_texts for id, value in doc}\n",
    "    sorted_d = sorted(d.items(), key=operator.itemgetter(1))\n",
    "    sorted_d.reverse()\n",
    "    \n",
    "    print(\"Total number of documents: \" + str(total_docs))\n",
    "    print(\"Average length of text: \" + str(avg_len))\n",
    "    print(\" \")\n",
    "    print(\"The top 5 tf-idf scores:\")\n",
    "    print(sorted_d[0:5])\n",
    "    print(\" \")\n",
    "    print(\"The top 20 most used words:\")\n",
    "    print(sorted_words[0:20])\n",
    "    print(\" \")\n",
    "    print(\"Topic Model with 2 topics\")\n",
    "    print(ldamodel.print_topics())\n",
    "    return cleaned_texts\n",
    "    "
   ]
  },
  {
   "cell_type": "code",
   "execution_count": 31,
   "metadata": {},
   "outputs": [
    {
     "name": "stdout",
     "output_type": "stream",
     "text": [
      "Total number of documents: 77\n",
      "Average length of text: 7.883116883116883\n",
      " \n",
      "The top 5 tf-idf scores:\n",
      "[('pants', 0.6645352085916862), ('butterflies', 0.6335544924044643), ('sessions', 0.6111877935126289), ('study', 0.5849598787645024), ('headache', 0.5691451554914362)]\n",
      " \n",
      "The top 20 most used words:\n",
      "[('feel', 137), ('little', 38), ('time', 35), ('bit', 33), ('feeling', 30), ('sensations', 25), ('feels', 23), ('thoughts', 23), ('body', 23), ('tired', 21), ('think', 20), ('normal', 20), ('felt', 18), ('right', 17), ('relaxed', 17), ('dry', 15), ('high', 15), ('placebo', 14), ('pretty', 14), ('great', 13)]\n",
      " \n",
      "Topic Model with 2 topics\n",
      "[(0, '0.042*\"feel\" + 0.011*\"time\" + 0.011*\"little\" + 0.009*\"sensations\" + 0.009*\"bit\" + 0.008*\"body\" + 0.008*\"felt\" + 0.007*\"feeling\" + 0.007*\"normal\" + 0.007*\"feels\"'), (1, '0.029*\"feel\" + 0.010*\"little\" + 0.010*\"bit\" + 0.009*\"feeling\" + 0.008*\"time\" + 0.007*\"thoughts\" + 0.006*\"dry\" + 0.006*\"mouth\" + 0.006*\"great\" + 0.006*\"experience\"')]\n"
     ]
    }
   ],
   "source": [
    "all_texts = text_summaries(young_thc + young_placebo + old_thc + old_placebo)"
   ]
  },
  {
   "cell_type": "code",
   "execution_count": 32,
   "metadata": {},
   "outputs": [
    {
     "name": "stdout",
     "output_type": "stream",
     "text": [
      "Total number of documents: 25\n",
      "Average length of text: 8.68\n",
      " \n",
      "The top 5 tf-idf scores:\n",
      "[('pick', 0.536361247891182), ('left', 0.4983128996426496), ('usual', 0.4249962668319175), ('intensified', 0.40785920162726075), ('stayed', 0.3938575393319695)]\n",
      " \n",
      "The top 20 most used words:\n",
      "[('feel', 31), ('time', 13), ('think', 12), ('feeling', 12), ('bit', 11), ('thoughts', 10), ('little', 8), ('felt', 8), ('feels', 8), ('writing', 8), ('tired', 7), ('lot', 7), ('sensations', 7), ('body', 7), ('usual', 6), ('eyes', 6), ('pretty', 6), ('sure', 6), ('focus', 6), ('going', 5)]\n",
      " \n",
      "Topic Model with 2 topics\n",
      "[(0, '0.019*\"feel\" + 0.016*\"bit\" + 0.014*\"feeling\" + 0.012*\"think\" + 0.011*\"time\" + 0.009*\"thoughts\" + 0.009*\"body\" + 0.009*\"pretty\" + 0.009*\"usual\" + 0.008*\"sure\"'), (1, '0.030*\"feel\" + 0.011*\"felt\" + 0.010*\"feels\" + 0.010*\"time\" + 0.009*\"little\" + 0.007*\"dry\" + 0.007*\"mouth\" + 0.007*\"eyes\" + 0.007*\"writing\" + 0.007*\"think\"')]\n"
     ]
    }
   ],
   "source": [
    "clean_young_thc = text_summaries(young_thc)"
   ]
  },
  {
   "cell_type": "code",
   "execution_count": 33,
   "metadata": {},
   "outputs": [
    {
     "name": "stdout",
     "output_type": "stream",
     "text": [
      "Total number of documents: 13\n",
      "Average length of text: 5.615384615384615\n",
      " \n",
      "The top 5 tf-idf scores:\n",
      "[('zoning', 0.5411303999669939), ('norm', 0.5411303999669939), ('write', 0.42713306478302704), ('elections', 0.42482204858003936), ('start', 0.36996887085974184)]\n",
      " \n",
      "The top 20 most used words:\n",
      "[('feel', 19), ('normal', 11), ('bit', 7), ('pretty', 6), ('sensations', 6), ('feeling', 5), ('placebo', 5), ('thoughts', 4), ('little', 4), ('looking', 4), ('time', 4), ('hungry', 4), ('sure', 4), ('right', 4), ('sober', 3), ('felt', 3), ('good', 3), ('tired', 3), ('today', 3), ('minutes', 3)]\n",
      " \n",
      "Topic Model with 2 topics\n",
      "[(0, '0.018*\"little\" + 0.016*\"normal\" + 0.015*\"feel\" + 0.015*\"thoughts\" + 0.015*\"looking\" + 0.011*\"sensations\" + 0.010*\"sober\" + 0.010*\"candle\" + 0.010*\"boredom\" + 0.010*\"drowsy\"'), (1, '0.043*\"feel\" + 0.021*\"normal\" + 0.017*\"pretty\" + 0.014*\"bit\" + 0.014*\"placebo\" + 0.012*\"sensations\" + 0.011*\"sure\" + 0.009*\"hungry\" + 0.009*\"feeling\" + 0.009*\"time\"')]\n"
     ]
    }
   ],
   "source": [
    "clean_young_placebo = text_summaries(young_placebo)"
   ]
  },
  {
   "cell_type": "code",
   "execution_count": 34,
   "metadata": {},
   "outputs": [
    {
     "name": "stdout",
     "output_type": "stream",
     "text": [
      "Total number of documents: 13\n",
      "Average length of text: 6.076923076923077\n",
      " \n",
      "The top 5 tf-idf scores:\n",
      "[('silly', 0.5773502691896257), ('pants', 0.5773502691896257), ('brought', 0.5773502691896257), ('study', 0.544318108106942), ('happy', 0.5260471411514012)]\n",
      " \n",
      "The top 20 most used words:\n",
      "[('feel', 32), ('little', 9), ('feeling', 6), ('body', 6), ('normal', 5), ('feels', 5), ('tired', 5), ('bit', 4), ('relaxed', 4), ('outside', 4), ('time', 4), ('content', 3), ('maybe', 3), ('right', 3), ('couch', 3), ('notice', 3), ('sensations', 3), ('trying', 3), ('room', 3), ('ordinary', 3)]\n",
      " \n",
      "Topic Model with 2 topics\n",
      "[(0, '0.034*\"feel\" + 0.018*\"feeling\" + 0.014*\"tired\" + 0.011*\"outside\" + 0.011*\"room\" + 0.011*\"experience\" + 0.011*\"ordinary\" + 0.011*\"little\" + 0.008*\"normal\" + 0.008*\"content\"'), (1, '0.056*\"feel\" + 0.016*\"little\" + 0.014*\"body\" + 0.011*\"feels\" + 0.011*\"relaxed\" + 0.011*\"time\" + 0.009*\"notice\" + 0.009*\"trying\" + 0.009*\"record\" + 0.009*\"normal\"')]\n"
     ]
    }
   ],
   "source": [
    "clean_old_placebo = text_summaries(old_placebo)"
   ]
  },
  {
   "cell_type": "code",
   "execution_count": 35,
   "metadata": {},
   "outputs": [
    {
     "name": "stdout",
     "output_type": "stream",
     "text": [
      "Total number of documents: 26\n",
      "Average length of text: 9.153846153846153\n",
      " \n",
      "The top 5 tf-idf scores:\n",
      "[('butterflies', 0.5714882156873277), ('fairly', 0.5410454708050851), ('left', 0.5382645618343469), ('face', 0.5382645618343469), ('headache', 0.5292007322444554)]\n",
      " \n",
      "The top 20 most used words:\n",
      "[('feel', 55), ('little', 17), ('time', 14), ('bit', 11), ('body', 10), ('feels', 9), ('dry', 9), ('sensations', 9), ('great', 9), ('slow', 8), ('thoughts', 8), ('numb', 8), ('sounds', 7), ('mouth', 7), ('relaxed', 7), ('high', 7), ('feeling', 7), ('notice', 6), ('aware', 6), ('tired', 6)]\n",
      " \n",
      "Topic Model with 2 topics\n",
      "[(0, '0.040*\"feel\" + 0.015*\"little\" + 0.011*\"time\" + 0.011*\"numb\" + 0.010*\"bit\" + 0.009*\"mouth\" + 0.009*\"relaxed\" + 0.008*\"dry\" + 0.008*\"thoughts\" + 0.008*\"left\"'), (1, '0.033*\"feel\" + 0.008*\"sounds\" + 0.008*\"high\" + 0.008*\"time\" + 0.008*\"little\" + 0.007*\"feeling\" + 0.007*\"body\" + 0.007*\"way\" + 0.007*\"great\" + 0.006*\"write\"')]\n"
     ]
    }
   ],
   "source": [
    "clean_old_thc = text_summaries(old_thc)"
   ]
  },
  {
   "cell_type": "code",
   "execution_count": 36,
   "metadata": {},
   "outputs": [
    {
     "name": "stdout",
     "output_type": "stream",
     "text": [
      "Total number of documents: 13\n",
      "Average length of text: 7.846153846153846\n",
      " \n",
      "The top 5 tf-idf scores:\n",
      "[('left', 0.5464122644303074), ('face', 0.5464122644303074), ('drowsy', 0.5321934019907406), ('butterflies', 0.5321934019907406), ('fairly', 0.5227378502907963)]\n",
      " \n",
      "The top 20 most used words:\n",
      "[('feel', 27), ('little', 12), ('great', 9), ('time', 9), ('bit', 8), ('slow', 6), ('notice', 5), ('sensations', 5), ('feels', 5), ('feeling', 5), ('placebo', 4), ('thoughts', 4), ('dry', 4), ('relaxed', 4), ('high', 4), ('future', 3), ('pond', 3), ('tadpole', 3), ('ancestor', 3), ('factual', 3)]\n",
      " \n",
      "Topic Model with 2 topics\n",
      "[(0, '0.022*\"great\" + 0.010*\"time\" + 0.010*\"high\" + 0.010*\"crying\" + 0.010*\"tadpole\" + 0.010*\"factual\" + 0.010*\"future\" + 0.010*\"ancestor\" + 0.010*\"pond\" + 0.010*\"person\"'), (1, '0.061*\"feel\" + 0.027*\"little\" + 0.020*\"bit\" + 0.015*\"time\" + 0.013*\"slow\" + 0.013*\"notice\" + 0.012*\"sensations\" + 0.011*\"feels\" + 0.011*\"placebo\" + 0.010*\"thoughts\"')]\n"
     ]
    }
   ],
   "source": [
    "clean_old_7_5 = text_summaries(old_7_5)"
   ]
  },
  {
   "cell_type": "code",
   "execution_count": 37,
   "metadata": {},
   "outputs": [
    {
     "name": "stdout",
     "output_type": "stream",
     "text": [
      "Total number of documents: 13\n",
      "Average length of text: 10.461538461538462\n",
      " \n",
      "The top 5 tf-idf scores:\n",
      "[('enjoy', 0.45361950736112033), ('left', 0.42673009755116675), ('felt', 0.40747276026101253), ('pen', 0.38931858067700736), ('movement', 0.38931858067700736)]\n",
      " \n",
      "The top 20 most used words:\n",
      "[('feel', 28), ('body', 7), ('numb', 7), ('present', 5), ('time', 5), ('right', 5), ('mouth', 5), ('dry', 5), ('little', 5), ('write', 5), ('language', 4), ('experience', 4), ('mind', 4), ('feels', 4), ('sounds', 4), ('thought', 4), ('aware', 4), ('heavy', 4), ('left', 4), ('thoughts', 4)]\n",
      " \n",
      "Topic Model with 2 topics\n",
      "[(0, '0.027*\"feel\" + 0.019*\"numb\" + 0.014*\"dry\" + 0.014*\"mouth\" + 0.011*\"right\" + 0.011*\"left\" + 0.009*\"little\" + 0.009*\"write\" + 0.009*\"thinking\" + 0.006*\"dizzy\"'), (1, '0.039*\"feel\" + 0.014*\"body\" + 0.012*\"present\" + 0.010*\"time\" + 0.010*\"language\" + 0.010*\"experience\" + 0.010*\"focus\" + 0.007*\"sounds\" + 0.007*\"thoughts\" + 0.007*\"mind\"')]\n"
     ]
    }
   ],
   "source": [
    "clean_old_15 = text_summaries(old_15)"
   ]
  },
  {
   "cell_type": "code",
   "execution_count": 38,
   "metadata": {},
   "outputs": [
    {
     "name": "stdout",
     "output_type": "stream",
     "text": [
      "Total number of documents: 13\n",
      "Average length of text: 6.923076923076923\n",
      " \n",
      "The top 5 tf-idf scores:\n",
      "[('usual', 0.4993807856374388), ('left', 0.48533016742636137), ('normally', 0.39797780428516866), ('forgot', 0.3869789776549109), ('stayed', 0.3536548353323322)]\n",
      " \n",
      "The top 20 most used words:\n",
      "[('feel', 16), ('bit', 8), ('time', 8), ('little', 7), ('thoughts', 6), ('think', 5), ('writing', 5), ('feeling', 5), ('tired', 4), ('lot', 4), ('sensations', 4), ('things', 4), ('normal', 4), ('forgot', 3), ('movement', 3), ('anxiety', 3), ('usual', 3), ('kind', 3), ('pretty', 3), ('eyes', 3)]\n",
      " \n",
      "Topic Model with 2 topics\n",
      "[(0, '0.032*\"feel\" + 0.018*\"thoughts\" + 0.012*\"tired\" + 0.012*\"sensations\" + 0.012*\"feeling\" + 0.012*\"pretty\" + 0.012*\"bit\" + 0.012*\"kind\" + 0.008*\"pleasant\" + 0.008*\"easily\"'), (1, '0.022*\"feel\" + 0.020*\"time\" + 0.016*\"bit\" + 0.016*\"little\" + 0.013*\"writing\" + 0.010*\"things\" + 0.010*\"think\" + 0.010*\"anxiety\" + 0.010*\"usual\" + 0.010*\"movement\"')]\n"
     ]
    }
   ],
   "source": [
    "clean_young_7_5 = text_summaries(young_7_5)"
   ]
  },
  {
   "cell_type": "code",
   "execution_count": 39,
   "metadata": {},
   "outputs": [
    {
     "name": "stdout",
     "output_type": "stream",
     "text": [
      "Total number of documents: 12\n",
      "Average length of text: 10.583333333333334\n",
      " \n",
      "The top 5 tf-idf scores:\n",
      "[('pick', 0.4815471213096169), ('sure', 0.4246943685492813), ('came', 0.41943054449443556), ('usual', 0.41376539741932505), ('intensified', 0.38033941105574476)]\n",
      " \n",
      "The top 20 most used words:\n",
      "[('feel', 15), ('felt', 7), ('feels', 7), ('feeling', 7), ('think', 7), ('time', 5), ('body', 5), ('thoughts', 4), ('sure', 4), ('music', 3), ('extremely', 3), ('going', 3), ('surprised', 3), ('writing', 3), ('usual', 3), ('moment', 3), ('mouth', 3), ('dry', 3), ('focus', 3), ('eyes', 3)]\n",
      " \n",
      "Topic Model with 2 topics\n",
      "[(0, '0.020*\"feel\" + 0.014*\"felt\" + 0.012*\"think\" + 0.008*\"sure\" + 0.008*\"time\" + 0.008*\"feeling\" + 0.008*\"feels\" + 0.007*\"usual\" + 0.007*\"pretty\" + 0.007*\"bit\"'), (1, '0.021*\"feel\" + 0.014*\"feels\" + 0.014*\"feeling\" + 0.013*\"focus\" + 0.010*\"eyes\" + 0.010*\"sensations\" + 0.010*\"surprised\" + 0.010*\"thoughts\" + 0.010*\"body\" + 0.010*\"candle\"')]\n"
     ]
    }
   ],
   "source": [
    "clean_young_15 = text_summaries(young_15)"
   ]
  },
  {
   "cell_type": "code",
   "execution_count": 40,
   "metadata": {},
   "outputs": [
    {
     "data": {
      "text/plain": [
       "[['feeling',\n",
       "  'weird',\n",
       "  'drugged',\n",
       "  'body',\n",
       "  'moving',\n",
       "  'concentrate',\n",
       "  'muscle',\n",
       "  'themslef',\n",
       "  'focus',\n",
       "  'writing',\n",
       "  'constantly',\n",
       "  'sentences',\n",
       "  'time',\n",
       "  'moving',\n",
       "  'fast',\n",
       "  'kinda',\n",
       "  'embarrassed',\n",
       "  'reacting',\n",
       "  'strongly',\n",
       "  '+',\n",
       "  'writing',\n",
       "  'trying',\n",
       "  'tingly',\n",
       "  'arm',\n",
       "  'falling',\n",
       "  'asleep',\n",
       "  'hard',\n",
       "  'lift',\n",
       "  'tingly',\n",
       "  'hands',\n",
       "  'time',\n",
       "  'honestly',\n",
       "  'embarrassing',\n",
       "  'act',\n",
       "  'normal',\n",
       "  'hot',\n",
       "  'spots',\n",
       "  'time',\n",
       "  'minutes'],\n",
       " ['definitely',\n",
       "  'heightened',\n",
       "  'awareness',\n",
       "  'senses',\n",
       "  'hear',\n",
       "  'things',\n",
       "  'vent',\n",
       "  'candle',\n",
       "  'need',\n",
       "  'conscious',\n",
       "  'effort',\n",
       "  'direct',\n",
       "  'thoughts',\n",
       "  'incredibly',\n",
       "  'focused',\n",
       "  'writing',\n",
       "  'control',\n",
       "  'thoughts',\n",
       "  'long',\n",
       "  'think',\n",
       "  'sensations',\n",
       "  'experiencing',\n",
       "  'normally',\n",
       "  'able',\n",
       "  'generally',\n",
       "  'notice',\n",
       "  'lot',\n",
       "  'differences',\n",
       "  'normally',\n",
       "  'pleasant',\n",
       "  'unpleasant'],\n",
       " ['confused',\n",
       "  'candle',\n",
       "  'lit',\n",
       "  'write',\n",
       "  'trying',\n",
       "  'cute',\n",
       "  'relaxing',\n",
       "  'buddha',\n",
       "  'statue',\n",
       "  'sage',\n",
       "  'lol',\n",
       "  'candles',\n",
       "  'allowed',\n",
       "  'campus',\n",
       "  'scientific',\n",
       "  'purpose',\n",
       "  'candle',\n",
       "  'scented',\n",
       "  'light',\n",
       "  'makes',\n",
       "  'relaxed',\n",
       "  'sidenote',\n",
       "  'tryna',\n",
       "  'relax',\n",
       "  'wax',\n",
       "  'relaxing',\n",
       "  'anyways',\n",
       "  'think',\n",
       "  'high'],\n",
       " ['feel',\n",
       "  'tingly',\n",
       "  'feel',\n",
       "  'warm',\n",
       "  'encompassing',\n",
       "  'love',\n",
       "  'high',\n",
       "  'mouth',\n",
       "  'dry',\n",
       "  'hour',\n",
       "  'damn',\n",
       "  'toooo',\n",
       "  'hungry',\n",
       "  'vibins',\n",
       "  'prefer',\n",
       "  'dose',\n",
       "  'guess',\n",
       "  'extreme'],\n",
       " ['embarrassingly',\n",
       "  'anxious',\n",
       "  'body',\n",
       "  'functions',\n",
       "  'sure',\n",
       "  'learn',\n",
       "  'appear',\n",
       "  'appreciate',\n",
       "  'metaphors',\n",
       "  'stupid',\n",
       "  'stoner',\n",
       "  'thought',\n",
       "  'probably',\n",
       "  'pretty',\n",
       "  'confident',\n",
       "  'got',\n",
       "  'fat',\n",
       "  'dose',\n",
       "  'thc',\n",
       "  'definitely',\n",
       "  'reserved',\n",
       "  'feeling',\n",
       "  'restricted',\n",
       "  'dance',\n",
       "  'learned',\n",
       "  'growing',\n",
       "  'metaphor',\n",
       "  'stolen',\n",
       "  'podcast',\n",
       "  'listening',\n",
       "  'shivering',\n",
       "  'sure',\n",
       "  'cold',\n",
       "  'room',\n",
       "  'feels',\n",
       "  'freezing',\n",
       "  'right',\n",
       "  'jitteriness',\n",
       "  'tell',\n",
       "  'lot',\n",
       "  'interesting',\n",
       "  'entry',\n",
       "  'anxious',\n",
       "  'bathroom',\n",
       "  'shaking',\n",
       "  'head',\n",
       "  'think',\n",
       "  'chance',\n",
       "  'end',\n",
       "  'anxiety',\n",
       "  'damn',\n",
       "  'bro',\n",
       "  'feeling',\n",
       "  'stereotypical',\n",
       "  'stoner',\n",
       "  'character',\n",
       "  'tv',\n",
       "  'sure',\n",
       "  'good',\n",
       "  'bad',\n",
       "  'guy',\n",
       "  'meditating',\n",
       "  'helps',\n",
       "  'breathing',\n",
       "  'focusing',\n",
       "  'times',\n",
       "  'shaking',\n",
       "  'pretty',\n",
       "  'sure',\n",
       "  'jitteriness',\n",
       "  'pretty',\n",
       "  'profound',\n",
       "  'thoughts'],\n",
       " ['session',\n",
       "  'think',\n",
       "  'experiencing',\n",
       "  'bodily',\n",
       "  'sensations',\n",
       "  'feel',\n",
       "  'bit',\n",
       "  'tired',\n",
       "  'slow',\n",
       "  'consistent',\n",
       "  'felt',\n",
       "  'came',\n",
       "  'high',\n",
       "  'quality',\n",
       "  'sleep',\n",
       "  'senses',\n",
       "  'distorted',\n",
       "  'think',\n",
       "  'experienced',\n",
       "  'wee',\n",
       "  'calm',\n",
       "  'rare',\n",
       "  'think',\n",
       "  'distortions',\n",
       "  'greatly',\n",
       "  'felt',\n",
       "  'came'],\n",
       " ['feels',\n",
       "  'fast',\n",
       "  'thoughts',\n",
       "  'feel',\n",
       "  'fast',\n",
       "  'feel',\n",
       "  'running',\n",
       "  'run',\n",
       "  'general',\n",
       "  'movements',\n",
       "  'sensations',\n",
       "  'feel',\n",
       "  'intensified',\n",
       "  'parts',\n",
       "  'body',\n",
       "  'feel',\n",
       "  'twitchy',\n",
       "  'find',\n",
       "  'feel',\n",
       "  'unpleasant',\n",
       "  'close',\n",
       "  'eyes',\n",
       "  'buzzing',\n",
       "  'feeling',\n",
       "  'builds',\n",
       "  'feels',\n",
       "  'intensified',\n",
       "  'open',\n",
       "  'eyes',\n",
       "  'feels',\n",
       "  'pounces',\n",
       "  'focus',\n",
       "  'ways',\n",
       "  'speed',\n",
       "  'feeling'],\n",
       " ['little',\n",
       "  'bit',\n",
       "  'hard',\n",
       "  'write',\n",
       "  'movements',\n",
       "  'feel',\n",
       "  'bit',\n",
       "  'clumsy',\n",
       "  'feel',\n",
       "  \"i'92\",\n",
       "  'm',\n",
       "  'having',\n",
       "  'trouble',\n",
       "  'thoughts',\n",
       "  'easily',\n",
       "  'feel',\n",
       "  'tingling',\n",
       "  'skin',\n",
       "  'generally',\n",
       "  'pleasant',\n",
       "  'feeling',\n",
       "  'eyes',\n",
       "  'unfocusing',\n",
       "  'easily',\n",
       "  'thoughts',\n",
       "  'difficult',\n",
       "  'track'],\n",
       " ['sluggish',\n",
       "  'generally',\n",
       "  'tingling',\n",
       "  'tired',\n",
       "  'dry',\n",
       "  'mouth',\n",
       "  'unable',\n",
       "  'concentrate',\n",
       "  'staring',\n",
       "  'ceiling',\n",
       "  'relaxed',\n",
       "  'hesitant',\n",
       "  'chess'],\n",
       " ['moment',\n",
       "  'feeling',\n",
       "  'neutral',\n",
       "  'relaxed',\n",
       "  'candle',\n",
       "  'notable',\n",
       "  'sensation',\n",
       "  'taking',\n",
       "  'moment',\n",
       "  'gather',\n",
       "  'thoughts',\n",
       "  'focused',\n",
       "  'motion',\n",
       "  'focused',\n",
       "  'bit',\n",
       "  'handwriting',\n",
       "  'feels',\n",
       "  'smooth',\n",
       "  'usual',\n",
       "  'tell',\n",
       "  'nice',\n",
       "  'pen',\n",
       "  'experiencing',\n",
       "  'writing',\n",
       "  'differently',\n",
       "  'normally',\n",
       "  'lot',\n",
       "  'mistakes',\n",
       "  'usual',\n",
       "  'think',\n",
       "  'bit',\n",
       "  'thoughtful',\n",
       "  'word',\n",
       "  'choice',\n",
       "  'sentences',\n",
       "  'usual',\n",
       "  'feel',\n",
       "  'blood',\n",
       "  'body',\n",
       "  'moving',\n",
       "  'weird',\n",
       "  'sensation',\n",
       "  'notice',\n",
       "  'blinking',\n",
       "  'super',\n",
       "  'prominently',\n",
       "  'planning',\n",
       "  'suprised',\n",
       "  'increased',\n",
       "  'awareness',\n",
       "  'body',\n",
       "  'space'],\n",
       " ['feeling',\n",
       "  'pretty',\n",
       "  'sleep',\n",
       "  'right',\n",
       "  'relaxed',\n",
       "  'feel',\n",
       "  'moving',\n",
       "  'pretty',\n",
       "  'slowly',\n",
       "  'kind',\n",
       "  'feel',\n",
       "  'sloth',\n",
       "  'zootopia',\n",
       "  'joke',\n",
       "  'camel',\n",
       "  'know',\n",
       "  'sleepy',\n",
       "  'going',\n",
       "  'sleep',\n",
       "  'late',\n",
       "  'pill',\n",
       "  'think',\n",
       "  'pill',\n",
       "  'accentuating',\n",
       "  'went',\n",
       "  'bathroom',\n",
       "  'saw',\n",
       "  'eyes',\n",
       "  'kind',\n",
       "  'red',\n",
       "  'hope',\n",
       "  'wears',\n",
       "  'soon',\n",
       "  'wo',\n",
       "  'tired',\n",
       "  'homework'],\n",
       " ['feels',\n",
       "  'harder',\n",
       "  'write',\n",
       "  'physically',\n",
       "  'time',\n",
       "  'candle',\n",
       "  'stayed',\n",
       "  'longer',\n",
       "  'feel',\n",
       "  'fidgety',\n",
       "  'time',\n",
       "  'sitting'],\n",
       " ['feel',\n",
       "  'normal',\n",
       "  'maybe',\n",
       "  'bit',\n",
       "  'energized',\n",
       "  'relaxed',\n",
       "  'optimistic',\n",
       "  'usual',\n",
       "  'think',\n",
       "  'attribute',\n",
       "  'setting',\n",
       "  'fact',\n",
       "  'bit',\n",
       "  'homework',\n",
       "  'bladder',\n",
       "  'anxiety',\n",
       "  'time',\n",
       "  'thoughts',\n",
       "  'probably',\n",
       "  'clear',\n",
       "  'come',\n",
       "  'super',\n",
       "  'easily',\n",
       "  'mood',\n",
       "  'relaxation',\n",
       "  'attributed',\n",
       "  'environment',\n",
       "  'hmmm',\n",
       "  'placebo',\n",
       "  'ing',\n",
       "  'head',\n",
       "  'bit',\n",
       "  'usual',\n",
       "  'regardless',\n",
       "  'pleasant',\n",
       "  'sitting',\n",
       "  'couch',\n",
       "  'writing',\n",
       "  'songs',\n",
       "  'going',\n",
       "  'memory',\n",
       "  'usual'],\n",
       " ['visual',\n",
       "  'feeling',\n",
       "  'kind',\n",
       "  'tired',\n",
       "  'fairly',\n",
       "  'normal',\n",
       "  'consistent',\n",
       "  'quotidian',\n",
       "  'state',\n",
       "  'beings',\n",
       "  'thoughts',\n",
       "  'sensations',\n",
       "  'stand',\n",
       "  'moment',\n",
       "  'thinking',\n",
       "  'lot',\n",
       "  'usefulness',\n",
       "  'structural',\n",
       "  'integrity',\n",
       "  'telescopic',\n",
       "  'shovels',\n",
       "  'head',\n",
       "  'hurts',\n",
       "  'tiny',\n",
       "  'bit',\n",
       "  'drink',\n",
       "  'water',\n",
       "  'sure',\n",
       "  'away'],\n",
       " ['sensations',\n",
       "  'feeling',\n",
       "  'tingly',\n",
       "  '+',\n",
       "  'twitchy',\n",
       "  'coffee',\n",
       "  'benedril',\n",
       "  'drowsy',\n",
       "  'similar',\n",
       "  'heat',\n",
       "  'moving+sluggish',\n",
       "  'lagging',\n",
       "  'focus',\n",
       "  'different',\n",
       "  'parts',\n",
       "  'body',\n",
       "  'unfocused',\n",
       "  'focus)+hyperfocused',\n",
       "  'underscored',\n",
       "  'surprised',\n",
       "  'try',\n",
       "  'focus',\n",
       "  'turning',\n",
       "  'time',\n",
       "  'confusing',\n",
       "  'embarrassed',\n",
       "  'loosing',\n",
       "  'train',\n",
       "  'thoughts',\n",
       "  'surprised'],\n",
       " ['urge',\n",
       "  'chess',\n",
       "  'pieces',\n",
       "  'slight',\n",
       "  'movement',\n",
       "  'forth',\n",
       "  'lead',\n",
       "  'movement',\n",
       "  'color',\n",
       "  'spectrum',\n",
       "  'flame',\n",
       "  'color',\n",
       "  'spectrum',\n",
       "  'shapes',\n",
       "  'flame',\n",
       "  'eyes',\n",
       "  'rolled',\n",
       "  'tingle',\n",
       "  'rush',\n",
       "  'face',\n",
       "  'mouth',\n",
       "  'dry',\n",
       "  'water',\n",
       "  'bottle',\n",
       "  'panic',\n",
       "  'anxiety',\n",
       "  'lethargic',\n",
       "  'remember',\n",
       "  'writing',\n",
       "  'anxiety'],\n",
       " ['feel',\n",
       "  'wearing',\n",
       "  'sunglasses',\n",
       "  'right',\n",
       "  'room',\n",
       "  'children',\n",
       "  'discovery',\n",
       "  'museum',\n",
       "  'time',\n",
       "  'feels',\n",
       "  'going',\n",
       "  'slow',\n",
       "  'harder',\n",
       "  'minutes'],\n",
       " ['turned',\n",
       "  'dreamy',\n",
       "  'state',\n",
       "  'mind',\n",
       "  'actual',\n",
       "  'dream',\n",
       "  'clip',\n",
       "  'going',\n",
       "  'mind',\n",
       "  'lose',\n",
       "  'memory',\n",
       "  'time',\n",
       "  'woke',\n",
       "  'time',\n",
       "  'passes',\n",
       "  'extremely',\n",
       "  'slow',\n",
       "  'writing',\n",
       "  'sentences',\n",
       "  'feels',\n",
       "  'long',\n",
       "  'time',\n",
       "  'actively',\n",
       "  'switch',\n",
       "  'dreamy',\n",
       "  'mode',\n",
       "  'sober',\n",
       "  'mode'],\n",
       " ['feel',\n",
       "  'alright',\n",
       "  'feel',\n",
       "  'going',\n",
       "  'thc',\n",
       "  'pill',\n",
       "  'kinda',\n",
       "  'letdown',\n",
       "  'lol',\n",
       "  'guess',\n",
       "  'bored',\n",
       "  'eyes',\n",
       "  'feel',\n",
       "  'little',\n",
       "  'funny',\n",
       "  'writing',\n",
       "  'think',\n",
       "  'sober',\n",
       "  'required',\n",
       "  'pick',\n",
       "  'pick',\n",
       "  'depressant'],\n",
       " ['feeling',\n",
       "  'unusual',\n",
       "  'right',\n",
       "  'definitely',\n",
       "  'tired',\n",
       "  'stressed',\n",
       "  'especially',\n",
       "  \"it'92s\",\n",
       "  'finals',\n",
       "  'week',\n",
       "  'lot',\n",
       "  \"don'92\",\n",
       "  't',\n",
       "  'feel',\n",
       "  'noticeable',\n",
       "  'drug',\n",
       "  'effects'],\n",
       " ['dry',\n",
       "  'mouth',\n",
       "  'ravenous',\n",
       "  'tingly',\n",
       "  'heavyless',\n",
       "  'edible',\n",
       "  'fucking',\n",
       "  'worked',\n",
       "  'feel',\n",
       "  'happy',\n",
       "  'feel',\n",
       "  'stupid',\n",
       "  'sorry',\n",
       "  'conor',\n",
       "  'dumb',\n",
       "  'amazing',\n",
       "  'music',\n",
       "  'sounds',\n",
       "  'great',\n",
       "  'montreal',\n",
       "  'hits',\n",
       "  'anesthetic',\n",
       "  'interface',\n",
       "  'mysterious',\n",
       "  'material',\n",
       "  'structure',\n",
       "  'retrospective',\n",
       "  'minutes',\n",
       "  'post',\n",
       "  'ingestion',\n",
       "  'felt',\n",
       "  'tingling',\n",
       "  'leg',\n",
       "  'noticed',\n",
       "  'velvet',\n",
       "  'underground',\n",
       "  'record',\n",
       "  'listened',\n",
       "  'played',\n",
       "  'enchanted',\n",
       "  'music',\n",
       "  'sounded',\n",
       "  'amazing',\n",
       "  'point',\n",
       "  'aware',\n",
       "  'placebo',\n",
       "  'cannabinol',\n",
       "  'd',\n",
       "  'apmh',\n",
       "  'hits',\n",
       "  'quicker',\n",
       "  'suddenly',\n",
       "  'point',\n",
       "  'maybe',\n",
       "  '1hr',\n",
       "  'effects',\n",
       "  'dramatically',\n",
       "  'shitted',\n",
       "  'music',\n",
       "  'uncontrollably',\n",
       "  'making',\n",
       "  'musical',\n",
       "  'shrieks',\n",
       "  'giggling',\n",
       "  'felt',\n",
       "  'immense',\n",
       "  'sensual',\n",
       "  'pleasures',\n",
       "  'night',\n",
       "  'gotten',\n",
       "  'kiss',\n",
       "  'reliving',\n",
       "  'moment',\n",
       "  'extremely',\n",
       "  'sexually',\n",
       "  'aroused',\n",
       "  'feel',\n",
       "  'touch',\n",
       "  'extremely',\n",
       "  'dry',\n",
       "  'mouth',\n",
       "  'ravenously',\n",
       "  'hungry',\n",
       "  'felt',\n",
       "  'detached',\n",
       "  'movements',\n",
       "  'texting',\n",
       "  'friends',\n",
       "  'felt',\n",
       "  'different',\n",
       "  'person',\n",
       "  'texting',\n",
       "  'beautiful',\n",
       "  'hyper',\n",
       "  'fixated',\n",
       "  'hunger',\n",
       "  'questionnaires',\n",
       "  'probably',\n",
       "  'garbage',\n",
       "  'data',\n",
       "  'filling',\n",
       "  'felt',\n",
       "  'joke',\n",
       "  'memory',\n",
       "  'great',\n",
       "  'remember',\n",
       "  'bits',\n",
       "  'pieces',\n",
       "  'eeg',\n",
       "  'surprised',\n",
       "  'cash',\n",
       "  'game',\n",
       "  'thought',\n",
       "  'given',\n",
       "  'got',\n",
       "  'home',\n",
       "  'foggy',\n",
       "  'definitely',\n",
       "  'better',\n",
       "  'experience',\n",
       "  'brought',\n",
       "  'food'],\n",
       " ['moment',\n",
       "  'perception',\n",
       "  'movement',\n",
       "  'slower',\n",
       "  'reaction',\n",
       "  'time',\n",
       "  'things',\n",
       "  'happening',\n",
       "  'longer',\n",
       "  'came',\n",
       "  'lab',\n",
       "  'little',\n",
       "  'sleepiness',\n",
       "  'sleepiness',\n",
       "  'lot',\n",
       "  'intense',\n",
       "  'long',\n",
       "  'lasting',\n",
       "  'feel',\n",
       "  'bit',\n",
       "  'ache',\n",
       "  'eyelids',\n",
       "  'feeling',\n",
       "  'bit',\n",
       "  'drunkenness',\n",
       "  'lot',\n",
       "  'different',\n",
       "  'brain',\n",
       "  'body',\n",
       "  'forgot',\n",
       "  'things',\n",
       "  'quickly',\n",
       "  'forgot',\n",
       "  'phone',\n",
       "  'cushion',\n",
       "  'till',\n",
       "  'wanted',\n",
       "  'look',\n",
       "  'time',\n",
       "  'forgot',\n",
       "  'walking',\n",
       "  'lab',\n",
       "  'physical',\n",
       "  'sensations',\n",
       "  'mental',\n",
       "  'feelings',\n",
       "  'strong',\n",
       "  'intense',\n",
       "  'usually',\n",
       "  'things',\n",
       "  'irate',\n",
       "  'usually',\n",
       "  'happen',\n",
       "  'care'],\n",
       " ['feel',\n",
       "  'weird',\n",
       "  'tingling',\n",
       "  'left',\n",
       "  'neck',\n",
       "  'goes',\n",
       "  'little',\n",
       "  'shoulder',\n",
       "  'feel',\n",
       "  'spread',\n",
       "  'left',\n",
       "  'arm',\n",
       "  'feel',\n",
       "  'little',\n",
       "  'dizzy',\n",
       "  'little',\n",
       "  'slow',\n",
       "  'think',\n",
       "  'little',\n",
       "  'tired',\n",
       "  'focus',\n",
       "  'feel',\n",
       "  'unfocused'],\n",
       " ['feel',\n",
       "  'pretty',\n",
       "  'normal',\n",
       "  'noticing',\n",
       "  'unusual',\n",
       "  'feelings',\n",
       "  'sensations',\n",
       "  'definitely',\n",
       "  'good',\n",
       "  'mood',\n",
       "  'little',\n",
       "  'tired',\n",
       "  'probably',\n",
       "  'sleeping',\n",
       "  'weekend',\n",
       "  'sure',\n",
       "  'add',\n",
       "  'loving',\n",
       "  'ambiance',\n",
       "  'room',\n",
       "  'currently'],\n",
       " ['suddenly',\n",
       "  'noticed',\n",
       "  'high',\n",
       "  'felt',\n",
       "  'drowsy',\n",
       "  'bored',\n",
       "  'feel',\n",
       "  'happy',\n",
       "  'euphoric',\n",
       "  'maybe',\n",
       "  'better',\n",
       "  'focus',\n",
       "  'notice',\n",
       "  'looked',\n",
       "  'phone',\n",
       "  'think',\n",
       "  'funny',\n",
       "  'placebo',\n",
       "  'sober',\n",
       "  'wonder',\n",
       "  'handwriting',\n",
       "  'bad']]"
      ]
     },
     "execution_count": 40,
     "metadata": {},
     "output_type": "execute_result"
    }
   ],
   "source": [
    "clean_young_thc"
   ]
  },
  {
   "cell_type": "code",
   "execution_count": 41,
   "metadata": {},
   "outputs": [],
   "source": [
    "def joined_texts(texts):\n",
    "    joined_texts = []\n",
    "    for text in texts:\n",
    "        s = ' '\n",
    "        joined_text = s.join(text)\n",
    "        joined_texts.append(joined_text)\n",
    "    return joined_texts"
   ]
  },
  {
   "cell_type": "code",
   "execution_count": 42,
   "metadata": {},
   "outputs": [],
   "source": [
    "joined_clean_young_thc = joined_texts(clean_young_thc)"
   ]
  },
  {
   "cell_type": "code",
   "execution_count": 43,
   "metadata": {},
   "outputs": [
    {
     "data": {
      "text/plain": [
       "['feeling weird drugged body moving concentrate muscle themslef focus writing constantly sentences time moving fast kinda embarrassed reacting strongly + writing trying tingly arm falling asleep hard lift tingly hands time honestly embarrassing act normal hot spots time minutes',\n",
       " 'definitely heightened awareness senses hear things vent candle need conscious effort direct thoughts incredibly focused writing control thoughts long think sensations experiencing normally able generally notice lot differences normally pleasant unpleasant',\n",
       " 'confused candle lit write trying cute relaxing buddha statue sage lol candles allowed campus scientific purpose candle scented light makes relaxed sidenote tryna relax wax relaxing anyways think high',\n",
       " 'feel tingly feel warm encompassing love high mouth dry hour damn toooo hungry vibins prefer dose guess extreme',\n",
       " 'embarrassingly anxious body functions sure learn appear appreciate metaphors stupid stoner thought probably pretty confident got fat dose thc definitely reserved feeling restricted dance learned growing metaphor stolen podcast listening shivering sure cold room feels freezing right jitteriness tell lot interesting entry anxious bathroom shaking head think chance end anxiety damn bro feeling stereotypical stoner character tv sure good bad guy meditating helps breathing focusing times shaking pretty sure jitteriness pretty profound thoughts',\n",
       " 'session think experiencing bodily sensations feel bit tired slow consistent felt came high quality sleep senses distorted think experienced wee calm rare think distortions greatly felt came',\n",
       " 'feels fast thoughts feel fast feel running run general movements sensations feel intensified parts body feel twitchy find feel unpleasant close eyes buzzing feeling builds feels intensified open eyes feels pounces focus ways speed feeling',\n",
       " \"little bit hard write movements feel bit clumsy feel i'92 m having trouble thoughts easily feel tingling skin generally pleasant feeling eyes unfocusing easily thoughts difficult track\",\n",
       " 'sluggish generally tingling tired dry mouth unable concentrate staring ceiling relaxed hesitant chess',\n",
       " 'moment feeling neutral relaxed candle notable sensation taking moment gather thoughts focused motion focused bit handwriting feels smooth usual tell nice pen experiencing writing differently normally lot mistakes usual think bit thoughtful word choice sentences usual feel blood body moving weird sensation notice blinking super prominently planning suprised increased awareness body space',\n",
       " 'feeling pretty sleep right relaxed feel moving pretty slowly kind feel sloth zootopia joke camel know sleepy going sleep late pill think pill accentuating went bathroom saw eyes kind red hope wears soon wo tired homework',\n",
       " 'feels harder write physically time candle stayed longer feel fidgety time sitting',\n",
       " 'feel normal maybe bit energized relaxed optimistic usual think attribute setting fact bit homework bladder anxiety time thoughts probably clear come super easily mood relaxation attributed environment hmmm placebo ing head bit usual regardless pleasant sitting couch writing songs going memory usual',\n",
       " 'visual feeling kind tired fairly normal consistent quotidian state beings thoughts sensations stand moment thinking lot usefulness structural integrity telescopic shovels head hurts tiny bit drink water sure away',\n",
       " 'sensations feeling tingly + twitchy coffee benedril drowsy similar heat moving+sluggish lagging focus different parts body unfocused focus)+hyperfocused underscored surprised try focus turning time confusing embarrassed loosing train thoughts surprised',\n",
       " 'urge chess pieces slight movement forth lead movement color spectrum flame color spectrum shapes flame eyes rolled tingle rush face mouth dry water bottle panic anxiety lethargic remember writing anxiety',\n",
       " 'feel wearing sunglasses right room children discovery museum time feels going slow harder minutes',\n",
       " 'turned dreamy state mind actual dream clip going mind lose memory time woke time passes extremely slow writing sentences feels long time actively switch dreamy mode sober mode',\n",
       " 'feel alright feel going thc pill kinda letdown lol guess bored eyes feel little funny writing think sober required pick pick depressant',\n",
       " \"feeling unusual right definitely tired stressed especially it'92s finals week lot don'92 t feel noticeable drug effects\",\n",
       " 'dry mouth ravenous tingly heavyless edible fucking worked feel happy feel stupid sorry conor dumb amazing music sounds great montreal hits anesthetic interface mysterious material structure retrospective minutes post ingestion felt tingling leg noticed velvet underground record listened played enchanted music sounded amazing point aware placebo cannabinol d apmh hits quicker suddenly point maybe 1hr effects dramatically shitted music uncontrollably making musical shrieks giggling felt immense sensual pleasures night gotten kiss reliving moment extremely sexually aroused feel touch extremely dry mouth ravenously hungry felt detached movements texting friends felt different person texting beautiful hyper fixated hunger questionnaires probably garbage data filling felt joke memory great remember bits pieces eeg surprised cash game thought given got home foggy definitely better experience brought food',\n",
       " 'moment perception movement slower reaction time things happening longer came lab little sleepiness sleepiness lot intense long lasting feel bit ache eyelids feeling bit drunkenness lot different brain body forgot things quickly forgot phone cushion till wanted look time forgot walking lab physical sensations mental feelings strong intense usually things irate usually happen care',\n",
       " 'feel weird tingling left neck goes little shoulder feel spread left arm feel little dizzy little slow think little tired focus feel unfocused',\n",
       " 'feel pretty normal noticing unusual feelings sensations definitely good mood little tired probably sleeping weekend sure add loving ambiance room currently',\n",
       " 'suddenly noticed high felt drowsy bored feel happy euphoric maybe better focus notice looked phone think funny placebo sober wonder handwriting bad']"
      ]
     },
     "execution_count": 43,
     "metadata": {},
     "output_type": "execute_result"
    }
   ],
   "source": [
    "joined_clean_young_thc"
   ]
  },
  {
   "cell_type": "code",
   "execution_count": 44,
   "metadata": {},
   "outputs": [],
   "source": [
    "joined_clean_young_placebo = joined_texts(clean_young_placebo)"
   ]
  },
  {
   "cell_type": "code",
   "execution_count": 45,
   "metadata": {},
   "outputs": [],
   "source": [
    "joined_clean_old_placebo = joined_texts(clean_old_placebo)"
   ]
  },
  {
   "cell_type": "code",
   "execution_count": 46,
   "metadata": {},
   "outputs": [],
   "source": [
    "joined_clean_old_thc = joined_texts(clean_old_thc)"
   ]
  },
  {
   "cell_type": "code",
   "execution_count": 47,
   "metadata": {},
   "outputs": [],
   "source": [
    "thc_class = joined_clean_old_thc + joined_clean_young_thc"
   ]
  },
  {
   "cell_type": "code",
   "execution_count": 48,
   "metadata": {},
   "outputs": [],
   "source": [
    "placebo_class = joined_clean_young_placebo + joined_clean_old_placebo"
   ]
  },
  {
   "cell_type": "code",
   "execution_count": 49,
   "metadata": {},
   "outputs": [],
   "source": [
    "all_texts  = thc_class + placebo_class"
   ]
  },
  {
   "cell_type": "code",
   "execution_count": 50,
   "metadata": {},
   "outputs": [],
   "source": [
    "labels = [1] * len(thc_class) + [0] * len(placebo_class)"
   ]
  },
  {
   "cell_type": "code",
   "execution_count": 51,
   "metadata": {},
   "outputs": [
    {
     "data": {
      "text/plain": [
       "77"
      ]
     },
     "execution_count": 51,
     "metadata": {},
     "output_type": "execute_result"
    }
   ],
   "source": [
    "len(labels)"
   ]
  },
  {
   "cell_type": "markdown",
   "metadata": {},
   "source": [
    "## Word Cloud"
   ]
  },
  {
   "cell_type": "code",
   "execution_count": 52,
   "metadata": {},
   "outputs": [],
   "source": [
    "from wordcloud import WordCloud"
   ]
  },
  {
   "cell_type": "code",
   "execution_count": 53,
   "metadata": {},
   "outputs": [],
   "source": [
    "import matplotlib.pyplot as plt"
   ]
  },
  {
   "cell_type": "code",
   "execution_count": 68,
   "metadata": {},
   "outputs": [],
   "source": [
    "# Generate a word cloud image\n",
    "def generate_wc(text):\n",
    "    wordcloud = WordCloud().generate(text)\n",
    "    plt.imshow(wordcloud, interpolation='bilinear')\n",
    "    plt.axis(\"off\")\n",
    "    wordcloud = WordCloud(max_font_size=50).generate(text)\n",
    "    plt.figure()\n",
    "    plt.imshow(wordcloud, interpolation=\"bilinear\")\n",
    "    plt.axis(\"off\")\n",
    "    plt.show()"
   ]
  },
  {
   "cell_type": "code",
   "execution_count": 83,
   "metadata": {},
   "outputs": [
    {
     "data": {
      "image/png": "[encoded data removed]",
      "text/plain": [
       "<Figure size 432x288 with 1 Axes>"
      ]
     },
     "metadata": {
      "needs_background": "light"
     },
     "output_type": "display_data"
    },
    {
     "data": {
      "image/png": "[encoded data removed]",
      "text/plain": [
       "<Figure size 432x288 with 1 Axes>"
      ]
     },
     "metadata": {
      "needs_background": "light"
     },
     "output_type": "display_data"
    }
   ],
   "source": [
    "generate_wc(joined_clean_old_thc[0] + joined_clean_young_thc[0])"
   ]
  },
  {
   "cell_type": "code",
   "execution_count": 85,
   "metadata": {},
   "outputs": [
    {
     "data": {
      "image/png": "[encoded data removed]",
      "text/plain": [
       "<Figure size 432x288 with 1 Axes>"
      ]
     },
     "metadata": {
      "needs_background": "light"
     },
     "output_type": "display_data"
    },
    {
     "data": {
      "image/png": "[encoded data removed]",
      "text/plain": [
       "<Figure size 432x288 with 1 Axes>"
      ]
     },
     "metadata": {
      "needs_background": "light"
     },
     "output_type": "display_data"
    }
   ],
   "source": [
    "generate_wc(joined_clean_young_thc[0])"
   ]
  },
  {
   "cell_type": "code",
   "execution_count": 132,
   "metadata": {},
   "outputs": [],
   "source": [
    "import pyLDAvis\n"
   ]
  },
  {
   "cell_type": "code",
   "execution_count": 133,
   "metadata": {},
   "outputs": [],
   "source": [
    "pyLDAvis.enable_notebook()"
   ]
  },
  {
   "cell_type": "code",
   "execution_count": 135,
   "metadata": {},
   "outputs": [
    {
     "ename": "NameError",
     "evalue": "name 'lda_model' is not defined",
     "output_type": "error",
     "traceback": [
      "\u001b[0;31m---------------------------------------------------------------------------\u001b[0m",
      "\u001b[0;31mNameError\u001b[0m                                 Traceback (most recent call last)",
      "\u001b[0;32m<ipython-input-135-1b8c8f7013e5>\u001b[0m in \u001b[0;36m<module>\u001b[0;34m\u001b[0m\n\u001b[0;32m----> 1\u001b[0;31m \u001b[0mvis\u001b[0m \u001b[0;34m=\u001b[0m \u001b[0mpyLDAvis\u001b[0m\u001b[0;34m.\u001b[0m\u001b[0mprepare\u001b[0m\u001b[0;34m(\u001b[0m\u001b[0mlda_model\u001b[0m\u001b[0;34m,\u001b[0m \u001b[0mcorpus\u001b[0m\u001b[0;34m,\u001b[0m \u001b[0mdictionary\u001b[0m\u001b[0;34m=\u001b[0m\u001b[0mlda_model\u001b[0m\u001b[0;34m.\u001b[0m\u001b[0mid2word\u001b[0m\u001b[0;34m)\u001b[0m\u001b[0;34m\u001b[0m\u001b[0;34m\u001b[0m\u001b[0m\n\u001b[0m",
      "\u001b[0;31mNameError\u001b[0m: name 'lda_model' is not defined"
     ]
    }
   ],
   "source": [
    "vis = pyLDAvis.prepare(lda_model, corpus, dictionary=lda_model.id2word)"
   ]
  },
  {
   "cell_type": "markdown",
   "metadata": {},
   "source": [
    "### Classifying"
   ]
  },
  {
   "cell_type": "code",
   "execution_count": 86,
   "metadata": {},
   "outputs": [],
   "source": [
    "from sklearn.feature_extraction.text import TfidfVectorizer\n",
    "from sklearn.cluster import KMeans\n",
    "from sklearn.decomposition import TruncatedSVD\n",
    "from sklearn.preprocessing import Normalizer\n",
    "from sklearn.pipeline import make_pipeline"
   ]
  },
  {
   "cell_type": "code",
   "execution_count": 87,
   "metadata": {},
   "outputs": [],
   "source": [
    "import numpy as np"
   ]
  },
  {
   "cell_type": "code",
   "execution_count": 88,
   "metadata": {},
   "outputs": [],
   "source": [
    "vectorizer = TfidfVectorizer()"
   ]
  },
  {
   "cell_type": "code",
   "execution_count": 89,
   "metadata": {},
   "outputs": [],
   "source": [
    "X = vectorizer.fit_transform(all_texts)"
   ]
  },
  {
   "cell_type": "code",
   "execution_count": 342,
   "metadata": {},
   "outputs": [],
   "source": [
    "from sklearn import svm\n",
    "from sklearn.model_selection import train_test_split"
   ]
  },
  {
   "cell_type": "code",
   "execution_count": 372,
   "metadata": {},
   "outputs": [],
   "source": [
    "X_train, X_test, y_train, y_test = train_test_split(X, labels, test_size=0.30, random_state=410)"
   ]
  },
  {
   "cell_type": "code",
   "execution_count": 344,
   "metadata": {},
   "outputs": [],
   "source": [
    "from imblearn.over_sampling import RandomOverSampler "
   ]
  },
  {
   "cell_type": "code",
   "execution_count": 345,
   "metadata": {},
   "outputs": [],
   "source": [
    "rus = RandomOverSampler(random_state=413)"
   ]
  },
  {
   "cell_type": "code",
   "execution_count": 373,
   "metadata": {},
   "outputs": [],
   "source": [
    "X_res, y_res = rus.fit_resample(X_train, y_train)"
   ]
  },
  {
   "cell_type": "code",
   "execution_count": 347,
   "metadata": {},
   "outputs": [],
   "source": [
    "clf = svm.SVC(kernel='linear', probability=True,\n",
    "                                 random_state=410)"
   ]
  },
  {
   "cell_type": "code",
   "execution_count": 348,
   "metadata": {},
   "outputs": [
    {
     "data": {
      "text/plain": [
       "SVC(kernel='linear', probability=True, random_state=410)"
      ]
     },
     "execution_count": 348,
     "metadata": {},
     "output_type": "execute_result"
    }
   ],
   "source": [
    "clf.fit(X_res, y_res)"
   ]
  },
  {
   "cell_type": "code",
   "execution_count": 349,
   "metadata": {},
   "outputs": [],
   "source": [
    "predicted = clf.predict(X_test)"
   ]
  },
  {
   "cell_type": "code",
   "execution_count": 350,
   "metadata": {},
   "outputs": [
    {
     "data": {
      "text/plain": [
       "0.7083333333333334"
      ]
     },
     "execution_count": 350,
     "metadata": {},
     "output_type": "execute_result"
    }
   ],
   "source": [
    "np.mean(predicted == y_test)"
   ]
  },
  {
   "cell_type": "code",
   "execution_count": 351,
   "metadata": {},
   "outputs": [
    {
     "data": {
      "text/plain": [
       "array([1, 1, 1, 1, 1, 1, 1, 1, 1, 1, 1, 1, 1, 1, 1, 1, 1, 0, 0, 1, 1, 0,\n",
       "       1, 1])"
      ]
     },
     "execution_count": 351,
     "metadata": {},
     "output_type": "execute_result"
    }
   ],
   "source": [
    "predicted"
   ]
  },
  {
   "cell_type": "code",
   "execution_count": 352,
   "metadata": {},
   "outputs": [],
   "source": [
    "y_score = clf.decision_function(X_test)"
   ]
  },
  {
   "cell_type": "code",
   "execution_count": 353,
   "metadata": {},
   "outputs": [],
   "source": [
    "def plot_roc_auc(clf, y_test, y_score, n_classes = 2):\n",
    "    # Compute ROC curve and ROC area for each class\n",
    "    fpr = dict()\n",
    "    tpr = dict()\n",
    "    roc_auc = dict()\n",
    "    for i in range(n_classes):\n",
    "        fpr[i], tpr[i], _ = roc_curve(y_test, y_score)\n",
    "        roc_auc[i] = auc(fpr[i], tpr[i])\n",
    "\n",
    "    # Compute micro-average ROC curve and ROC area\n",
    "    fpr[\"micro\"], tpr[\"micro\"], _ = roc_curve(y_test, y_score)\n",
    "    roc_auc[\"micro\"] = auc(fpr[\"micro\"], tpr[\"micro\"])\n",
    "    plt.figure()\n",
    "    lw = 2\n",
    "    plt.plot(fpr[0], tpr[0], color='darkorange',\n",
    "             lw=lw, label='ROC curve (area = %0.2f)' % roc_auc[0])\n",
    "    plt.plot([0, 1], [0, 1], color='navy', lw=lw, linestyle='--')\n",
    "    plt.xlim([0.0, 1.0])\n",
    "    plt.ylim([0.0, 1.05])\n",
    "    plt.xlabel('False Positive Rate')\n",
    "    plt.ylabel('True Positive Rate')\n",
    "    plt.title('Receiver operating characteristic example')\n",
    "    plt.legend(loc=\"lower right\")\n",
    "    plt.show()\n"
   ]
  },
  {
   "cell_type": "code",
   "execution_count": 354,
   "metadata": {},
   "outputs": [
    {
     "data": {
      "image/png": "[encoded data removed]",
      "text/plain": [
       "<Figure size 576x396 with 1 Axes>"
      ]
     },
     "metadata": {},
     "output_type": "display_data"
    }
   ],
   "source": [
    "plot_roc_auc(clf, y_test, y_score)"
   ]
  },
  {
   "cell_type": "code",
   "execution_count": 378,
   "metadata": {},
   "outputs": [],
   "source": [
    "clf = LogisticRegression().fit(X_res, y=y_res)"
   ]
  },
  {
   "cell_type": "code",
   "execution_count": 379,
   "metadata": {},
   "outputs": [],
   "source": [
    "y_score = clf.decision_function(X_test)"
   ]
  },
  {
   "cell_type": "code",
   "execution_count": 380,
   "metadata": {},
   "outputs": [
    {
     "data": {
      "text/plain": [
       "0.625"
      ]
     },
     "execution_count": 380,
     "metadata": {},
     "output_type": "execute_result"
    }
   ],
   "source": [
    "np.mean(predicted == y_test)"
   ]
  },
  {
   "cell_type": "code",
   "execution_count": 381,
   "metadata": {},
   "outputs": [
    {
     "data": {
      "image/png": "[encoded data removed]",
      "text/plain": [
       "<Figure size 576x396 with 1 Axes>"
      ]
     },
     "metadata": {},
     "output_type": "display_data"
    }
   ],
   "source": [
    "plot_roc_auc(clf, y_test, y_score)"
   ]
  },
  {
   "cell_type": "markdown",
   "metadata": {},
   "source": [
    "### Visualising"
   ]
  },
  {
   "cell_type": "code",
   "execution_count": 336,
   "metadata": {},
   "outputs": [],
   "source": [
    "from yellowbrick.text import TSNEVisualizer"
   ]
  },
  {
   "cell_type": "code",
   "execution_count": 46,
   "metadata": {},
   "outputs": [
    {
     "name": "stderr",
     "output_type": "stream",
     "text": [
      "*c* argument looks like a single numeric RGB or RGBA sequence, which should be avoided as value-mapping will have precedence in case its length matches with *x* & *y*.  Please use the *color* keyword-argument or provide a 2D array with a single row if you intend to specify the same RGB or RGBA value for all points.\n",
      "*c* argument looks like a single numeric RGB or RGBA sequence, which should be avoided as value-mapping will have precedence in case its length matches with *x* & *y*.  Please use the *color* keyword-argument or provide a 2D array with a single row if you intend to specify the same RGB or RGBA value for all points.\n"
     ]
    },
    {
     "data": {
      "image/png": "[encoded data removed]",
      "text/plain": [
       "<Figure size 576x396 with 1 Axes>"
      ]
     },
     "metadata": {},
     "output_type": "display_data"
    },
    {
     "data": {
      "text/plain": [
       "<AxesSubplot:title={'center':'TSNE Projection of 77 Documents'}>"
      ]
     },
     "execution_count": 46,
     "metadata": {},
     "output_type": "execute_result"
    }
   ],
   "source": [
    "tsne = TSNEVisualizer()\n",
    "tsne.fit(X, labels)\n",
    "tsne.show()"
   ]
  },
  {
   "cell_type": "code",
   "execution_count": 334,
   "metadata": {},
   "outputs": [],
   "source": [
    "from yellowbrick.text import UMAPVisualizer"
   ]
  },
  {
   "cell_type": "code",
   "execution_count": 48,
   "metadata": {},
   "outputs": [
    {
     "name": "stderr",
     "output_type": "stream",
     "text": [
      "*c* argument looks like a single numeric RGB or RGBA sequence, which should be avoided as value-mapping will have precedence in case its length matches with *x* & *y*.  Please use the *color* keyword-argument or provide a 2D array with a single row if you intend to specify the same RGB or RGBA value for all points.\n",
      "*c* argument looks like a single numeric RGB or RGBA sequence, which should be avoided as value-mapping will have precedence in case its length matches with *x* & *y*.  Please use the *color* keyword-argument or provide a 2D array with a single row if you intend to specify the same RGB or RGBA value for all points.\n"
     ]
    },
    {
     "data": {
      "image/png": "[encoded data removed]",
      "text/plain": [
       "<Figure size 576x396 with 1 Axes>"
      ]
     },
     "metadata": {},
     "output_type": "display_data"
    },
    {
     "data": {
      "text/plain": [
       "<AxesSubplot:title={'center':'UMAP Projection of 77 Documents'}>"
      ]
     },
     "execution_count": 48,
     "metadata": {},
     "output_type": "execute_result"
    }
   ],
   "source": [
    "umap = UMAPVisualizer()\n",
    "umap.fit(X, labels)\n",
    "umap.show()"
   ]
  },
  {
   "cell_type": "markdown",
   "metadata": {},
   "source": [
    "TODO:\n",
    "\n",
    "1) Averages + distribution plots \n",
    "2) Entropy measure\n",
    "3) Try with only 15mg THC \n",
    "4) Try with adult/young\n",
    "5) Important/discriminatory words in corpus\n",
    "6) Visualisations\n",
    "7) Dry Mouth / Bodily perception\n",
    "\n",
    "\n",
    "\n",
    "Intuitions:\n",
    "\n",
    "1) People talking about what their feelings - moods and feelings\n",
    "2) Adjectives which people use for THC - adjective check list\n",
    "3) Abstract vs Concrete words - Pennebacker Linguistic Analysis \n",
    "\n",
    "Classifier:\n",
    "\n",
    "1) Would we able to classify these? (open question)\n",
    "\n",
    "\n",
    "### word2vec and doc2vec"
   ]
  },
  {
   "cell_type": "code",
   "execution_count": 317,
   "metadata": {},
   "outputs": [],
   "source": [
    "taggedDocs = []"
   ]
  },
  {
   "cell_type": "code",
   "execution_count": 318,
   "metadata": {},
   "outputs": [],
   "source": [
    "i = 0"
   ]
  },
  {
   "cell_type": "code",
   "execution_count": 319,
   "metadata": {},
   "outputs": [],
   "source": [
    "for text, label in zip(all_texts, labels):\n",
    "    taggedDocs.append(gensim.models.doc2vec.TaggedDocument(words = text.split(' '), tags = [label]))\n",
    "    i +=1\n"
   ]
  },
  {
   "cell_type": "code",
   "execution_count": 320,
   "metadata": {},
   "outputs": [
    {
     "data": {
      "text/plain": [
       "[TaggedDocument(words=['crying', 'right', 'feeling', 'good', 'honest', 'definitely', 'high', 'crying', 'old', 'song', 'loved', 'nostalgic', 'crying', 'miss', 'brother', 'mad', 'saw', 'time', 'know', 'texted', 'apologizing', 'high', 'way', 'makes', 'body', 'relaxed', 'thinking', 'positively', 'introspectively', 'higher', 'noises', 'outdoor', 'focused', 'room', 'hear', 'world', 'woah', 'high', 'overall', 'great', 'love', 'married', 'beautiful', 'wonderful', 'partner', 'shaka', 'cute', 'great', 'incredibly', 'patient', 'selfless', 'giving', 'working', 'feel', 'self', 'conscious', 'having', 'support', 'financially', 'making', 'sure', 'working', 'change', 'love', 'clothing', 'want', 'lather', 'gifts', 'spoil', 'taking', 'dates', 'polyamourous', 'great', 'showed', 'work', 'finding', 'person', 'date', 'dating', 'expensive', 'treating', 'people', 'making', 'money', 'thinking'], tags=[1]),\n",
       " TaggedDocument(words=['sure', 'prompt', 'feelings', 'sensations', 'currently', 'find', 'hard', 'focus', 'page', 'hands', 'alternately', 'look', 'magnifying', 'glass', 'tell', 'silly', 'write', 'head', 'snap', 'feeling', 'little', 'lucid', 'feel', 'low', 'physical', 'energy', 'feel', 'especially', 'good', 'different', 'far', 'away', 'problems', 'feel', 'moving', 'seriously', 'doubt', 'stimulant', 'maybe', 'brain', 'weird', 'things', 'feel', 'coordination', 'keeps', 'getting', 'poor', 'sound', 'reasoning'], tags=[1]),\n",
       " TaggedDocument(words=['shaky', 'heart', 'beating', 'faster', 'dry', 'mouth', 'face', 'numb', 'thoughts', 'jumping', 'inattentive', 'unfocused', 'shoulders', 'numb', 'left', 'arm', 'numb', 'heavy', 'fidgeting', 'tongue', 'numb', 'nose', 'numb', 'dizzy', 'face', 'cold', 'deep', 'breaths', 'dry', 'mouth', 'self', 'conscious', 'throat', 'dry', 'unfocused', 'remember', 'breathe', 'left', 'leg', 'numb', 'tired', 'garlic', 'taste', 'mouth', 'especially', 'left', 'shaky', 'aware', 'left', 'body', 'dry', 'mouth', 'wondering', 'look', 'right', 'track', 'time', 'dizzy'], tags=[1]),\n",
       " TaggedDocument(words=['left', 'face', 'feels', 'numb', 'cold', 'tired', 'mouth', 'dry', 'left', 'neck', 'face', 'tingly'], tags=[1]),\n",
       " TaggedDocument(words=['feel', 'dizzy', 'heavy', 'headed', 'warm', 'sensation', 'tingling', 'limbs', 'tired', 'drowsy', 'slow', 'burning', 'feeling', 'forehead', 'hands'], tags=[1]),\n",
       " TaggedDocument(words=['feel', 'mildly', 'high', 'mild', 'pleasurable', 'sensations', 'occurring', 'actually', 'finding', 'harder', 'write', 'thought', 'aware', 'breathing', 'hands', 'feel', 'remotely', 'controlled', 'detached', 'bad', 'sounds', 'overall', 'feel', 'think', 'straight', 'bit', 'sleepy', 'mouth', 'feels', 'madly', 'dry', 'glass', 'water', 'feel', 'little', 'edgy', 'jumpy', 'moment', 'hard', 'write', 'passed', 'experiencing', 'pleasurable', 'sensation', 'particularly', 'moment', 'unsure', 'love', 'big', 'lunch', 'right'], tags=[1]),\n",
       " TaggedDocument(words=['feel', 'little', 'bored', 'feel', 'nice', 'start', 'relaxing', 'weekend', 'having', 'focus', 'upcoming', 'tasks', 'busy', 'week', 'work', 'ready', 'break', 'weekend', 'feel', 'little', 'sleepy', 'nap', 'feel', 'nice'], tags=[1]),\n",
       " TaggedDocument(words=['thoughts', 'feeling', 'little', 'bit', 'scatter', 'brained', 'little', 'bit', 'restless', 'thoughts', 'come', 'quickly', 'time', 'feels', 'going', 'slower', 'usual', 'sensations', 'mind', 'restless', 'feel', 'energetic', 'tired', 'time', 'fidgety', 'mouth', 'little', 'bit', 'dry'], tags=[1]),\n",
       " TaggedDocument(words=['feel', 'focus', 'right', 'overwhelmed', 'things', 'need', 'think', 'focus', 'long', 'project', 'work', 'longer', 'reading', 'actually', 'felt', 'enjoyable', 'past', 'hour', 'earlier', 'felt', 'hand', 'feel', 'slightly', 'heavy', 'distracting', 'lot', 'thoughts', 'mind', 'starting', 'wonder-', 'forming', 'rest', 'thought'], tags=[1]),\n",
       " TaggedDocument(words=['sure', 'took', 'placebo', 'mainly', 'feel', 'ok', 'body', 'sensations', 'change', 'pull', 'feel', 'bit', 'sleepy', 'feel', 'little', 'sluggish', 'slow'], tags=[1]),\n",
       " TaggedDocument(words=['feel', 'relaxed', 'little', 'melted', 'couch', 'movements', 'lighter', 'forced', 'limbs', 'feel', 'heavy', 'aware', 'feel', 'different', 'usual', 'people', 'notice', 'time', 'moving', 'little', 'slower', 'notice', 'sounds', 'smells', 'feel', 'happy', 'motivated', 'feeling', 'particularly', 'social'], tags=[1]),\n",
       " TaggedDocument(words=['feel', 'sleepy', 'half', 'hour', 'little', 'bit', 'scatter', 'brained', 'read', 'paragraphs', 'book', 'feet', 'feel', 'little', 'tingly', 'shoulders', 'relaxed', 'hungry', 'find', 'self', 'thinking', 'list', 'things', 'need', 'rest', 'day'], tags=[1]),\n",
       " TaggedDocument(words=['today', 'wednesday', 'row', 'come', 'experiment', 'university', 'chicago', 'today', 'feel', 'super', 'high', 'faint', 'strong', 'day', 'today', 'definitely', 'strongest', 'aware', 'sounds', 'separate', 'body', 'body', 'prefers', 'sleepy', 'feel', 'tense', 'stuck', 'certain', 'positions', 'mind', 'drifting', 'thoughts', 'life', 'memories', 'feelings', 'playing', 'chanting', 'binaural', 'beats', 'sounds', 'hz', 'ohm', 'chant', 'pace', 'speed', 'sounds', 'want', 'deal', 'hyper', 'aware', 'thoughts', 'undulating', 'present', 'body', 'present', 'universe', 'present', 'time', 'lifetime', 'feel', 'peace', 'grateful', 'thought', 'layer', 'sunkeniess', 'diving', 'deeper', 'deeper', 'psyche', 'time', 'feel', 'creative', 'help', 'want', 'series', 'workshops', 'help', 'guide', 'friends', 'family', 'time', 'frame'], tags=[1]),\n",
       " TaggedDocument(words=['feel', 'relaxed', 'joyful', 'wish', 'outside', 'enjoy', 'sun', 'notice', 'breathe', 'breaths', 'feel', 'satisfying', 'relaxes', 'sensations', 'easy', 'feel', 'internally', 'externally', 'enjoy', 'stretching', 'high', 'feels', 'amazing', 'want', 'chips', 'right'], tags=[1]),\n",
       " TaggedDocument(words=['feel', 'relaxing', 'reading', 'book', 'day', 'hear', 'noises', 'room', 'outside', 'feel', 'social', 'usually', 'muscle', 'tension', 'feels', 'starting', 'feel', 'little', 'tired', 'inactivity'], tags=[1]),\n",
       " TaggedDocument(words=['feel', 'calm', 'kind', 'thoughts', 'solid', 'minute', 'feels', 'time', 'passing', 'slower', 'lost', 'track'], tags=[1]),\n",
       " TaggedDocument(words=['feel', 'hungry', 'shaky', 'relaxed', 'feel', 'loose', 'track', 'time', 'slow', 'dreamy', 'focus', 'definitely', 'feel', 'body', 'sensations', 'bit', 'harder', 'write', 'actually', 'weakness', 'muscles', 'laugh', 'easily', 'body', 'feels', 'heavy', 'especially', 'head', 'forgetful', 'feel', 'drawing', 'dancing', 'slowly', 'listening', 'music', 'creative', 'careless'], tags=[1]),\n",
       " TaggedDocument(words=['guess', 'got', 'placebo', 'time', 'pay', 'attention', 'body', 'internal', 'state', 'sessions', 'notice', 'sensations', 'probably', 'background', 'morning', 'woke', 'slight', 'headache', 'went', 'away', 'sitting', 'feel', 'remaining', 'tension', 'forehead', 'normally', 'unaware', 'monitoring', 'changes', 'notice', 'feeling', 'sober', 'slightly', 'tired', 'slightly', 'hungry', 'happy', 'anxious', 'night', 'slight', 'head', 'tension', 'lower', 'energy', 'earlier', 'probably', 'day', 'wearing', 'space', 'little', 'couple', 'minutes', 'prone', 'regular', 'anyways', 'noticing', 'carrying', 'hunched', 'maybe', 'placebo', 'playing', 'attention', 'sounds', 'outside', 'window', 'suddenly', 'interested', 'world', 'outside', 'window', 'find', 'candle', 'lights', 'ritual', 'little', 'funny'], tags=[1]),\n",
       " TaggedDocument(words=['think', 'got', 'placebo', 'time', 'suddenly', 'noticed', 'seed', 'catalogue', 'brought', 'looked', 'unusual', 'unusually', 'interesting', 'suddenly', 'felt', 'slow', 'attracted', 'small', 'reflections', 'etc', 'skin', 'felt', 'great', 'felt', 'bit', 'dry', 'mouthed', 'haha', 'guess', 'supposed', 'writing', 'feel', 'feel', 'great', 'feels', 'pleasurable', 'feel', 'aware', 'light', '+', 'sounds', '+', 'sensations', 'bit', 'drifty', 'slow', 'eyeballs', 'feel', 'little', 'dry', 'breathing', 'feels', 'slow', 'feel', 'stop', 'writing', 'writing', 'forever', 'bit', 'lost', 'moment', 'way', 'feel', 'high'], tags=[1]),\n",
       " TaggedDocument(words=['thoughts', 'sensations', 'normally', 'fairly', 'calm', 'person', 'consider', 'exception', 'feel', 'fairly', 'slow', 'slow', 'day', 'noticed', 'coordination', 'lot', 'generally', 'uncoordinated', 'person', 'feel', 'fairly', 'content', 'satisfied', 'reading', 'zoned', 'daydreams', 'life', 'events', 'times', 'unusual', 'feel', 'need', 'probably', 'fulfilled', 'sitting', 'bit'], tags=[1]),\n",
       " TaggedDocument(words=['present', 'pressed', 'discuss', 'nature', 'quality', 'present', 'overall', 'sensory', 'experience', 'body', 'mind', 'begin', 'noting', 'appears', 'sort', 'appearance', 'presently', 'appearing', 'mean', 'appear', 'interesting', 'word', 'discuss', 'nature', 'proceeding', 'term', 'appearance', 'difficult', 'properly', 'define', 'best', 'said', 'presence', 'okay', 'presence', 'wonderful', 'definition', 'presence', 'enters', 'problem', 'problem', 'language', 'begin', 'question', 'important', 'document', 'value', 'whatsoever', 'language', 'proper', 'vehicle', 'instrument', 'satisfactory', 'exposition', 'phenomenal', 'experience', 'words', 'language', 'address', 'sensory', 'experience', 'language', 'sensory', 'experience', 'independent', '\"independent', 'fin'], tags=[1]),\n",
       " TaggedDocument(words=['notice', 'slight', 'headache', 'feel', 'relaxed', 'uneasy', 'headache', 'worsens', 'focus', 'feel', 'restless', 'deep', 'breathing', 'makes', 'feel', 'relaxed'], tags=[1]),\n",
       " TaggedDocument(words=['began', 'question', 'darwin', 'theory', 'evolution', 'organic', 'creatures', 'nature', 'factual', 'non', 'factual', 'surface', 'course', 'factual', 'asking', 'question', 'time', 'genealogically', 'expect', 'great', 'great', 'great', 'etc', 'ancestor', 'swimming', 'tadpole', 'organism', 'pre', 'historic', 'pond', 'absurd', 'great', 'ancestor', 'little', 'gooey', 'pond', 'odd', 'case', 'let', 'ask', 'case', 'going', 'time', 'far', 'find', 'ancestor', 'human', 'slimy', 'tadpole', 'pre', 'historic', 'pond', 'imply', 'imply', 'think', 'implies', 'today', 'tadpole', 'relative', 'future', 'offspring', 'relatively', 'distance', 'future', 'future', 'organism'], tags=[1]),\n",
       " TaggedDocument(words=['talking', 'friends', 'text', 'morning', 'crazy', 'tweet', 'trump', 'sent', 'election', 'fraud', 'software', 'count', 'election', 'ballots', 'changes', 'votes', 'biden', 'caps', 'truly', 'unbelievable', 'president', 'making', 'public', 'statements', 'way', 'thinking', 'let', 'claiming', 'know', 'fact', 'true', 'thought', 'befe', 'told', 'write', 'trump', 'right', 'way', 'crazier', 'good', 'guy', 'mind', 'blowing', 'try', 'reality', 'ballots', 'tampered', 'hard', 'imagine', 'feel', 'weird', 'think', 'wrong', 'assume', 'true', 'thinking'], tags=[1]),\n",
       " TaggedDocument(words=['feeling', 'light', 'drowsy', 'butterflies', 'good', 'way'], tags=[1]),\n",
       " TaggedDocument(words=['tingling', 'extremities', 'numb', 'floating', 'water', 'pen', 'fluid', 'movement'], tags=[1]),\n",
       " TaggedDocument(words=['feeling', 'weird', 'drugged', 'body', 'moving', 'concentrate', 'muscle', 'themslef', 'focus', 'writing', 'constantly', 'sentences', 'time', 'moving', 'fast', 'kinda', 'embarrassed', 'reacting', 'strongly', '+', 'writing', 'trying', 'tingly', 'arm', 'falling', 'asleep', 'hard', 'lift', 'tingly', 'hands', 'time', 'honestly', 'embarrassing', 'act', 'normal', 'hot', 'spots', 'time', 'minutes'], tags=[1]),\n",
       " TaggedDocument(words=['definitely', 'heightened', 'awareness', 'senses', 'hear', 'things', 'vent', 'candle', 'need', 'conscious', 'effort', 'direct', 'thoughts', 'incredibly', 'focused', 'writing', 'control', 'thoughts', 'long', 'think', 'sensations', 'experiencing', 'normally', 'able', 'generally', 'notice', 'lot', 'differences', 'normally', 'pleasant', 'unpleasant'], tags=[1]),\n",
       " TaggedDocument(words=['confused', 'candle', 'lit', 'write', 'trying', 'cute', 'relaxing', 'buddha', 'statue', 'sage', 'lol', 'candles', 'allowed', 'campus', 'scientific', 'purpose', 'candle', 'scented', 'light', 'makes', 'relaxed', 'sidenote', 'tryna', 'relax', 'wax', 'relaxing', 'anyways', 'think', 'high'], tags=[1]),\n",
       " TaggedDocument(words=['feel', 'tingly', 'feel', 'warm', 'encompassing', 'love', 'high', 'mouth', 'dry', 'hour', 'damn', 'toooo', 'hungry', 'vibins', 'prefer', 'dose', 'guess', 'extreme'], tags=[1]),\n",
       " TaggedDocument(words=['embarrassingly', 'anxious', 'body', 'functions', 'sure', 'learn', 'appear', 'appreciate', 'metaphors', 'stupid', 'stoner', 'thought', 'probably', 'pretty', 'confident', 'got', 'fat', 'dose', 'thc', 'definitely', 'reserved', 'feeling', 'restricted', 'dance', 'learned', 'growing', 'metaphor', 'stolen', 'podcast', 'listening', 'shivering', 'sure', 'cold', 'room', 'feels', 'freezing', 'right', 'jitteriness', 'tell', 'lot', 'interesting', 'entry', 'anxious', 'bathroom', 'shaking', 'head', 'think', 'chance', 'end', 'anxiety', 'damn', 'bro', 'feeling', 'stereotypical', 'stoner', 'character', 'tv', 'sure', 'good', 'bad', 'guy', 'meditating', 'helps', 'breathing', 'focusing', 'times', 'shaking', 'pretty', 'sure', 'jitteriness', 'pretty', 'profound', 'thoughts'], tags=[1]),\n",
       " TaggedDocument(words=['session', 'think', 'experiencing', 'bodily', 'sensations', 'feel', 'bit', 'tired', 'slow', 'consistent', 'felt', 'came', 'high', 'quality', 'sleep', 'senses', 'distorted', 'think', 'experienced', 'wee', 'calm', 'rare', 'think', 'distortions', 'greatly', 'felt', 'came'], tags=[1]),\n",
       " TaggedDocument(words=['feels', 'fast', 'thoughts', 'feel', 'fast', 'feel', 'running', 'run', 'general', 'movements', 'sensations', 'feel', 'intensified', 'parts', 'body', 'feel', 'twitchy', 'find', 'feel', 'unpleasant', 'close', 'eyes', 'buzzing', 'feeling', 'builds', 'feels', 'intensified', 'open', 'eyes', 'feels', 'pounces', 'focus', 'ways', 'speed', 'feeling'], tags=[1]),\n",
       " TaggedDocument(words=['little', 'bit', 'hard', 'write', 'movements', 'feel', 'bit', 'clumsy', 'feel', \"i'92\", 'm', 'having', 'trouble', 'thoughts', 'easily', 'feel', 'tingling', 'skin', 'generally', 'pleasant', 'feeling', 'eyes', 'unfocusing', 'easily', 'thoughts', 'difficult', 'track'], tags=[1]),\n",
       " TaggedDocument(words=['sluggish', 'generally', 'tingling', 'tired', 'dry', 'mouth', 'unable', 'concentrate', 'staring', 'ceiling', 'relaxed', 'hesitant', 'chess'], tags=[1]),\n",
       " TaggedDocument(words=['moment', 'feeling', 'neutral', 'relaxed', 'candle', 'notable', 'sensation', 'taking', 'moment', 'gather', 'thoughts', 'focused', 'motion', 'focused', 'bit', 'handwriting', 'feels', 'smooth', 'usual', 'tell', 'nice', 'pen', 'experiencing', 'writing', 'differently', 'normally', 'lot', 'mistakes', 'usual', 'think', 'bit', 'thoughtful', 'word', 'choice', 'sentences', 'usual', 'feel', 'blood', 'body', 'moving', 'weird', 'sensation', 'notice', 'blinking', 'super', 'prominently', 'planning', 'suprised', 'increased', 'awareness', 'body', 'space'], tags=[1]),\n",
       " TaggedDocument(words=['feeling', 'pretty', 'sleep', 'right', 'relaxed', 'feel', 'moving', 'pretty', 'slowly', 'kind', 'feel', 'sloth', 'zootopia', 'joke', 'camel', 'know', 'sleepy', 'going', 'sleep', 'late', 'pill', 'think', 'pill', 'accentuating', 'went', 'bathroom', 'saw', 'eyes', 'kind', 'red', 'hope', 'wears', 'soon', 'wo', 'tired', 'homework'], tags=[1]),\n",
       " TaggedDocument(words=['feels', 'harder', 'write', 'physically', 'time', 'candle', 'stayed', 'longer', 'feel', 'fidgety', 'time', 'sitting'], tags=[1]),\n",
       " TaggedDocument(words=['feel', 'normal', 'maybe', 'bit', 'energized', 'relaxed', 'optimistic', 'usual', 'think', 'attribute', 'setting', 'fact', 'bit', 'homework', 'bladder', 'anxiety', 'time', 'thoughts', 'probably', 'clear', 'come', 'super', 'easily', 'mood', 'relaxation', 'attributed', 'environment', 'hmmm', 'placebo', 'ing', 'head', 'bit', 'usual', 'regardless', 'pleasant', 'sitting', 'couch', 'writing', 'songs', 'going', 'memory', 'usual'], tags=[1]),\n",
       " TaggedDocument(words=['visual', 'feeling', 'kind', 'tired', 'fairly', 'normal', 'consistent', 'quotidian', 'state', 'beings', 'thoughts', 'sensations', 'stand', 'moment', 'thinking', 'lot', 'usefulness', 'structural', 'integrity', 'telescopic', 'shovels', 'head', 'hurts', 'tiny', 'bit', 'drink', 'water', 'sure', 'away'], tags=[1]),\n",
       " TaggedDocument(words=['sensations', 'feeling', 'tingly', '+', 'twitchy', 'coffee', 'benedril', 'drowsy', 'similar', 'heat', 'moving+sluggish', 'lagging', 'focus', 'different', 'parts', 'body', 'unfocused', 'focus)+hyperfocused', 'underscored', 'surprised', 'try', 'focus', 'turning', 'time', 'confusing', 'embarrassed', 'loosing', 'train', 'thoughts', 'surprised'], tags=[1]),\n",
       " TaggedDocument(words=['urge', 'chess', 'pieces', 'slight', 'movement', 'forth', 'lead', 'movement', 'color', 'spectrum', 'flame', 'color', 'spectrum', 'shapes', 'flame', 'eyes', 'rolled', 'tingle', 'rush', 'face', 'mouth', 'dry', 'water', 'bottle', 'panic', 'anxiety', 'lethargic', 'remember', 'writing', 'anxiety'], tags=[1]),\n",
       " TaggedDocument(words=['feel', 'wearing', 'sunglasses', 'right', 'room', 'children', 'discovery', 'museum', 'time', 'feels', 'going', 'slow', 'harder', 'minutes'], tags=[1]),\n",
       " TaggedDocument(words=['turned', 'dreamy', 'state', 'mind', 'actual', 'dream', 'clip', 'going', 'mind', 'lose', 'memory', 'time', 'woke', 'time', 'passes', 'extremely', 'slow', 'writing', 'sentences', 'feels', 'long', 'time', 'actively', 'switch', 'dreamy', 'mode', 'sober', 'mode'], tags=[1]),\n",
       " TaggedDocument(words=['feel', 'alright', 'feel', 'going', 'thc', 'pill', 'kinda', 'letdown', 'lol', 'guess', 'bored', 'eyes', 'feel', 'little', 'funny', 'writing', 'think', 'sober', 'required', 'pick', 'pick', 'depressant'], tags=[1]),\n",
       " TaggedDocument(words=['feeling', 'unusual', 'right', 'definitely', 'tired', 'stressed', 'especially', \"it'92s\", 'finals', 'week', 'lot', \"don'92\", 't', 'feel', 'noticeable', 'drug', 'effects'], tags=[1]),\n",
       " TaggedDocument(words=['dry', 'mouth', 'ravenous', 'tingly', 'heavyless', 'edible', 'fucking', 'worked', 'feel', 'happy', 'feel', 'stupid', 'sorry', 'conor', 'dumb', 'amazing', 'music', 'sounds', 'great', 'montreal', 'hits', 'anesthetic', 'interface', 'mysterious', 'material', 'structure', 'retrospective', 'minutes', 'post', 'ingestion', 'felt', 'tingling', 'leg', 'noticed', 'velvet', 'underground', 'record', 'listened', 'played', 'enchanted', 'music', 'sounded', 'amazing', 'point', 'aware', 'placebo', 'cannabinol', 'd', 'apmh', 'hits', 'quicker', 'suddenly', 'point', 'maybe', '1hr', 'effects', 'dramatically', 'shitted', 'music', 'uncontrollably', 'making', 'musical', 'shrieks', 'giggling', 'felt', 'immense', 'sensual', 'pleasures', 'night', 'gotten', 'kiss', 'reliving', 'moment', 'extremely', 'sexually', 'aroused', 'feel', 'touch', 'extremely', 'dry', 'mouth', 'ravenously', 'hungry', 'felt', 'detached', 'movements', 'texting', 'friends', 'felt', 'different', 'person', 'texting', 'beautiful', 'hyper', 'fixated', 'hunger', 'questionnaires', 'probably', 'garbage', 'data', 'filling', 'felt', 'joke', 'memory', 'great', 'remember', 'bits', 'pieces', 'eeg', 'surprised', 'cash', 'game', 'thought', 'given', 'got', 'home', 'foggy', 'definitely', 'better', 'experience', 'brought', 'food'], tags=[1]),\n",
       " TaggedDocument(words=['moment', 'perception', 'movement', 'slower', 'reaction', 'time', 'things', 'happening', 'longer', 'came', 'lab', 'little', 'sleepiness', 'sleepiness', 'lot', 'intense', 'long', 'lasting', 'feel', 'bit', 'ache', 'eyelids', 'feeling', 'bit', 'drunkenness', 'lot', 'different', 'brain', 'body', 'forgot', 'things', 'quickly', 'forgot', 'phone', 'cushion', 'till', 'wanted', 'look', 'time', 'forgot', 'walking', 'lab', 'physical', 'sensations', 'mental', 'feelings', 'strong', 'intense', 'usually', 'things', 'irate', 'usually', 'happen', 'care'], tags=[1]),\n",
       " TaggedDocument(words=['feel', 'weird', 'tingling', 'left', 'neck', 'goes', 'little', 'shoulder', 'feel', 'spread', 'left', 'arm', 'feel', 'little', 'dizzy', 'little', 'slow', 'think', 'little', 'tired', 'focus', 'feel', 'unfocused'], tags=[1]),\n",
       " TaggedDocument(words=['feel', 'pretty', 'normal', 'noticing', 'unusual', 'feelings', 'sensations', 'definitely', 'good', 'mood', 'little', 'tired', 'probably', 'sleeping', 'weekend', 'sure', 'add', 'loving', 'ambiance', 'room', 'currently'], tags=[1]),\n",
       " TaggedDocument(words=['suddenly', 'noticed', 'high', 'felt', 'drowsy', 'bored', 'feel', 'happy', 'euphoric', 'maybe', 'better', 'focus', 'notice', 'looked', 'phone', 'think', 'funny', 'placebo', 'sober', 'wonder', 'handwriting', 'bad'], tags=[1]),\n",
       " TaggedDocument(words=['feel', 'fine', 'right', 'sure', 'got', 'placebo', 'effects', 'hit', 'kind', 'anxious', 'start', 'feeling', 'soon', 'hope'], tags=[0]),\n",
       " TaggedDocument(words=['feeling', 'norm', 'zoning', 'boredom', 'hungry', 'drowsy'], tags=[0]),\n",
       " TaggedDocument(words=['feel', 'dreamy', 'appreciate', 'music', 'tingly', 'hungry', 'dry', 'mouth', 'difficult', 'focus', 'lack', 'sleep', 'plus', 'placebo', 'explain', 'things', 'bit', 'veil', 'experience', 'placebo', 'sorry', 'way'], tags=[0]),\n",
       " TaggedDocument(words=['feeling', 'fairy', 'close', 'normal', 'state', 'tend', 'fairly', 'energetic', 'anxious', 'degree', 'ion', 'calm', 'greatly', 'abnormal', 'said', 'abe', 'result', 'having', 'time', 'quit', 'room', 'far', 'physiological', 'sensations', 'illegible', 'illegible', 'i0', 'bit', 'easier', 'limbs', 'feel', 'slightly', 'heavy', 'tell', 'looking', 'sensations', 'moving', 'bit', 'ease', 'able', 'write', 'pages', 'minutes', 'ago', 'cognitively', 'feel', 'fine', 'main', 'difference', 'mood', 'wise', 'definitely', 'feel', 'edge', 'anxious', 'fairly', 'quick', 'mind', 'comprehension', 'feel', 'slightly', 'dull', 'increased', 'control', 'environment', 'bit', 'nervous', 'coming', 'today', 'noticed', 'breathing', 'slowed', 'heart', 'rate', 'steady', 'experiencing', 'shakiness', 'sense', 'calm', 'unusual', 'sorry', 'poor', 'handwriting', 'hope', 'helps'], tags=[0]),\n",
       " TaggedDocument(words=['feel', 'pretty', 'normal', 'today', 'right', 'little', 'tired', 'normal', 'feel', 'fine', 'sure', 'write'], tags=[0]),\n",
       " TaggedDocument(words=['feel', 'normal', 'feel', 'high', 'sore', 'working', 'yesterday', 'hungry', 'feel', 'meditate', 'right', 'feel', 'pretty', 'good', 'slept', 'today', 'slightly', 'stressed', 'elections', 'homework', 'ok', 'elections', 'stressful', 'hope', 'trying', 'distracted', 'results', 'ah', 'remembered', 'boba', 'fridge'], tags=[0]),\n",
       " TaggedDocument(words=['spent', 'looking', 'candle', 'found', 'experience', 'fun', 'weird', 'attention', 'spread', 'ton', 'different', 'thoughts', 'sensations', 'looking', 'candle', 'entrancing', 'looking', 'long', 'looked', 'away', 'vision', 'bit', 'hazy', 'think', 'bodily', 'sensations', 'entirely', 'normal', 'thoughts', 'incredibly', 'clear', 'fleeting', 'strange', 'combination', 'hanging', 'tangential', 'thoughts', 'observations', 'minutes', 'felt', 'reminded', 'pal', 'sarah', 'dorm', 'room', 'christmas', 'lights'], tags=[0]),\n",
       " TaggedDocument(words=['feel', 'normal+mellow', 'albeit', 'little', 'tired', 'working', 'homework', 'draining', 'feel', 'steady', 'aware', 'comfortable', 'low', 'key', 'nap', 'right', 'report'], tags=[0]),\n",
       " TaggedDocument(words=['feeling', 'fairly', 'normal', 'alert', 'awake', 'drowsy', 'normal', 'feelings', 'productivity', 'happiness', 'bit', 'high', 'took', 'edible', 'relaxed', 'content'], tags=[0]),\n",
       " TaggedDocument(words=['feel', 'sober', 'maybe', 'got', 'stimulant', 'certainly', 'intoxicating', 'guess', 'little', 'bored', 'happy', 'finished', 'grocery', 'list', 'store', 'little', 'fidgety', 'boredom', 'wonder', 'sober', 'handwriting', 'better', 'remember', 'appalled', 'time'], tags=[0]),\n",
       " TaggedDocument(words=['feel', 'pretty', 'normal', 'overall', 'pretty', 'sure', 'got', 'placebo', 'pill', 'felt', 'tired', 'jittery', 'excited', 'minutes', 'taking', 'pill', 'time', 'felt', 'normal', 'feel', 'tense', 'nervous', 'waiting', 'time', 'excited', 'circumstances', 'think', 'bit', 'higher', 'sober', 'energy', 'level', 'started', 'watching', 'ferris', 'bueller', 'website', 'laptop', 'important', 'normally', 'bad', 'getting', 'watch', 'good', 'media', 'normal', 'environment', 'normally', 'stick', 'crappy', 'youtube', 'videos', 'easily', 'accessible', 'bodily', 'sensations', 'feel', 'completely', 'normal', 'tad', 'conscious', 'limbs', 'hungry', 'odd', 'given', 'eaten', 'granola', 'bar'], tags=[0]),\n",
       " TaggedDocument(words=['feeling', 'pretty', 'okay', 'noticed', 'unusual', 'thoughts', 'sensations', 'good', 'meditating', 'dad', 'makes', 'try', 'brain', 'feels', 'pretty', 'thinking', 'stuff', 'october', 'starts'], tags=[0]),\n",
       " TaggedDocument(words=['feel', 'movement', 'slower', 'usual', 'drug', 'effect', 'mental', 'state', 'placebo', 'affect', 'physically', 'sure'], tags=[0]),\n",
       " TaggedDocument(words=['feel', 'got', 'placebo', 'time', 'little', 'tired', 'little', 'hungry', 'sleep', 'super', 'nights', 'eat', 'breakfast', 'appreciate', 'candle', 'kind', 'peaceful', 'reading', 'essay', 'collection', 'got', 'trouble', 'focusing', 'journaling', 'argument', 's.o', 'got', 'yesterday', 'feel', 'need', 'stretch', 'hunched', 'shoulder', 'driving', 'yesterday', 'feel', 'little', 'sore', 'yoga', 'interested', 'surroundings', 'sessions', 'feel', 'interested', 'record', 'player', 'able', 'figure', 'use', 'state', 'fear', 'record', 'players', 'getting', 'yelled', 'wrong', 'kid', 'feel', 'playing', 'words', 'friends', 'definitely', 'times', 'looking', 'forward', 'going', 'home', 'hearing', 'jonathan', 'virtual', 'piano', 'recital', 'tonight', 'laundry', 'planning', 'couple', 'weeks', 'feel', 'usual', 'low', 'grade', 'anxiety', 'job', 'search', 'feel', 'better', 'waiting'], tags=[0]),\n",
       " TaggedDocument(words=['brought', 'pants', 'silly'], tags=[0]),\n",
       " TaggedDocument(words=['terms', 'present', 'experience', 'feel', 'honest', 'classify', 'term', 'ordinary', 'fact', 'quality', 'present', 'experience', 'outside', 'ordinary', 'exception', 'sense', 'increased', 'temperature', 'suspect', 'consequence', 'temp', 'room', 'effect', 'substance', 'ingested', 'certainly', 'error', 'assessment', 'point', 'feel', 'comparatively', 'comfortable', 'way', 'uncomfortable'], tags=[0]),\n",
       " TaggedDocument(words=['feel', 'relaxed', 'time', 'feel', 'constantly', 'trying', 'figure', 'feel', 'high', 'sensibility', 'body', 'sensations', 'notice', 'tension', 'jaw', 'area', 'pressing', 'teeth', 'sit', 'couch', 'right', 'feel', 'body', 'glues', 'completely', 'head', 'feels', 'heavy', 'feel', 'bit', 'dreamy', 'feel', 'lazy', 'time', 'energized', 'maybe', 'creative', 'way', 'physically', 'intellectually', 'amused', 'details', 'looking', 'outside', 'candle'], tags=[0]),\n",
       " TaggedDocument(words=['feel', 'great', 'strong', 'feelings', 'usually', 'feel', 'happy', 'friday', 'thoughts', 'maybe', 'little', 'quieter', 'normal', 'overall', 'body', 'feels'], tags=[0]),\n",
       " TaggedDocument(words=['change', 'took', 'capsule', 'feeling', 'little', 'tired', 'clear', 'headed', 'bit', 'hungry', 'stomach', 'growling', 'usual', 'noticed', 'body', 'sensations', 'changes', 'train', 'thought'], tags=[0]),\n",
       " TaggedDocument(words=['feel', 'changed', 'feels', 'ordinary', 'weird', 'little', 'tired', 'common', 'early', 'odd', 'sensations'], tags=[0]),\n",
       " TaggedDocument(words=['right', 'feeling', 'snack', '+', 'relaxed', 'rom', 'chill', 'finishing', 'book', 'notice', 'head', 'feels', 'little', 'faint', 'compression', 'wearing', 'hat', 'hoodie', 'small', 'faint', 'change', 'temperature', 'sweater', 'need', 'earlier', 'body', 'feels', 'different', 'requires', 'little', 'bit', 'energy', 'deadly', 'feel', 'notice', 'body', 'relaxed', 'mind', 'wish', 'play', 'thins', 'record', 'player', 'burn', 'sage', 'feel', 'nap', 'surprised', 'trying', 'sleepy', 'think', 'feel', 'good', 'lay', 'couch', 'close', 'eyes'], tags=[0]),\n",
       " TaggedDocument(words=['happy', 'high', 'couple', 'sessions'], tags=[0]),\n",
       " TaggedDocument(words=['arrived', 'feeling', 'pretty', 'great', 'volunteered', 'new', 'experience', 'fight', 'covid', 'boredom', '+', 'loneliness', 'interaction', 'strangers', 'checkpoint', 'feeling', 'pretty', 'energized', 'etc', 'feel', 'tired', 'tell', 'drug', 'effect', 'early', 'day', 'having', 'eaten', 'quiet', 'room', 'feel', 'motivated', 'explore', 'room', 'disappointed', 'guitar', 'case', 'basically', 'content', 'recline', 'couch', 'read', 'exciting', 'sections', 'ny', 'times', 'feel', 'bit', 'anxious', 'waiting', 'feel', 'settled', 'acceptance', 'guess', 'extent', 'feel', 'indifferent', 'mood', 'bad', 'reaction', 'feel', 'doodle'], tags=[0]),\n",
       " TaggedDocument(words=['feel', 'relaxed', 'content', 'inquisitive', 'trying', 'sense', 'events', 'happening', 'world', 'life', 'recently', 'stressful', 'uncertain', 'couple', 'weeks', 'felt', 'acceptance', 'clarity', 'away', 'normal', 'routine', 'given', 'space', 'time', 'reflect', 'help', 'bring', 'relaxation', 'contentment', 'inquisitiveness'], tags=[0]),\n",
       " TaggedDocument(words=['feel', 'completely', 'normal', 'believe', 'placebo', 'post', 'study', 'comments', 'study', 'day', 'felt', 'sedative', 'feel', 'drug', 'given', 'feel', 'cannabis', 'thc'], tags=[0]),\n",
       " TaggedDocument(words=['feeling', 'moderately', 'normal', 'terms', 'feeling', 'calm', 'tell', 'little', 'tired', 'took', 'normal', 'near', 'noon', 'colored', 'lights', 'nice', 'creates', 'calm', 'atmosphere', 'feel', 'able', 'hear', 'lot', 'quiet', 'noises', 'right', 'hum', 'tv', 'vcr', 'background', 'maybe', 'fan', 'sort', 'outside', 'windows', 'slightly', 'isolating', 'wondering', 'outside', 'content', 'hanging'], tags=[0])]"
      ]
     },
     "execution_count": 320,
     "metadata": {},
     "output_type": "execute_result"
    }
   ],
   "source": [
    "taggedDocs"
   ]
  },
  {
   "cell_type": "code",
   "execution_count": 321,
   "metadata": {},
   "outputs": [],
   "source": [
    "doc2vec_model = gensim.models.doc2vec.Doc2Vec(vector_size=50, min_count=2, epochs=40)"
   ]
  },
  {
   "cell_type": "code",
   "execution_count": 322,
   "metadata": {},
   "outputs": [],
   "source": [
    "doc2vec_model.build_vocab(taggedDocs)\n"
   ]
  },
  {
   "cell_type": "code",
   "execution_count": 323,
   "metadata": {},
   "outputs": [],
   "source": [
    "doc2vec_model.train(taggedDocs, total_examples=doc2vec_model.corpus_count, epochs=doc2vec_model.epochs)"
   ]
  },
  {
   "cell_type": "code",
   "execution_count": 324,
   "metadata": {},
   "outputs": [],
   "source": [
    "document_doc2vec = []"
   ]
  },
  {
   "cell_type": "code",
   "execution_count": 325,
   "metadata": {},
   "outputs": [],
   "source": [
    "for text in all_texts:\n",
    "    document_doc2vec.append(doc2vec_model.infer_vector(text.split(' ')))"
   ]
  },
  {
   "cell_type": "code",
   "execution_count": 355,
   "metadata": {},
   "outputs": [],
   "source": [
    "X_train, X_test, y_train, y_test = train_test_split(document_doc2vec, labels, test_size=0.30, random_state=40)"
   ]
  },
  {
   "cell_type": "code",
   "execution_count": 356,
   "metadata": {},
   "outputs": [],
   "source": [
    "X_res, y_res = rus.fit_resample(X_train, y_train)"
   ]
  },
  {
   "cell_type": "code",
   "execution_count": 367,
   "metadata": {},
   "outputs": [],
   "source": [
    "from sklearn.linear_model import LogisticRegression"
   ]
  },
  {
   "cell_type": "code",
   "execution_count": 358,
   "metadata": {},
   "outputs": [],
   "source": [
    "clf = svm.SVC(random_state=0).fit(X_res, y=y_res)"
   ]
  },
  {
   "cell_type": "code",
   "execution_count": 359,
   "metadata": {},
   "outputs": [],
   "source": [
    "predicted = clf.predict(X_test)"
   ]
  },
  {
   "cell_type": "code",
   "execution_count": 365,
   "metadata": {},
   "outputs": [
    {
     "data": {
      "text/plain": [
       "0.875"
      ]
     },
     "execution_count": 365,
     "metadata": {},
     "output_type": "execute_result"
    }
   ],
   "source": [
    "np.mean(predicted == y_test)"
   ]
  },
  {
   "cell_type": "code",
   "execution_count": 332,
   "metadata": {},
   "outputs": [
    {
     "data": {
      "text/plain": [
       "[1, 1, 1, 1, 1, 1, 0, 0, 1, 1, 1, 1, 1, 0, 0, 1, 0, 1, 1, 1, 0, 1, 1, 1]"
      ]
     },
     "execution_count": 332,
     "metadata": {},
     "output_type": "execute_result"
    }
   ],
   "source": [
    "y_test"
   ]
  },
  {
   "cell_type": "code",
   "execution_count": 362,
   "metadata": {},
   "outputs": [],
   "source": [
    "y_score = clf.decision_function(X_test)"
   ]
  },
  {
   "cell_type": "code",
   "execution_count": 364,
   "metadata": {},
   "outputs": [
    {
     "data": {
      "image/png": "[encoded data removed]",
      "text/plain": [
       "<Figure size 576x396 with 1 Axes>"
      ]
     },
     "metadata": {},
     "output_type": "display_data"
    }
   ],
   "source": [
    "plot_roc_auc(clf, y_test, y_score)"
   ]
  },
  {
   "cell_type": "code",
   "execution_count": 368,
   "metadata": {},
   "outputs": [],
   "source": [
    "clf = LogisticRegression().fit(X_res, y=y_res)"
   ]
  },
  {
   "cell_type": "code",
   "execution_count": null,
   "metadata": {},
   "outputs": [],
   "source": []
  },
  {
   "cell_type": "code",
   "execution_count": 369,
   "metadata": {},
   "outputs": [],
   "source": [
    "y_score = clf.decision_function(X_test)"
   ]
  },
  {
   "cell_type": "code",
   "execution_count": 370,
   "metadata": {},
   "outputs": [
    {
     "data": {
      "image/png": "[encoded data removed]",
      "text/plain": [
       "<Figure size 576x396 with 1 Axes>"
      ]
     },
     "metadata": {},
     "output_type": "display_data"
    }
   ],
   "source": [
    "plot_roc_auc(clf, y_test, y_score)"
   ]
  },
  {
   "cell_type": "code",
   "execution_count": 339,
   "metadata": {},
   "outputs": [
    {
     "name": "stderr",
     "output_type": "stream",
     "text": [
      "*c* argument looks like a single numeric RGB or RGBA sequence, which should be avoided as value-mapping will have precedence in case its length matches with *x* & *y*.  Please use the *color* keyword-argument or provide a 2D array with a single row if you intend to specify the same RGB or RGBA value for all points.\n",
      "*c* argument looks like a single numeric RGB or RGBA sequence, which should be avoided as value-mapping will have precedence in case its length matches with *x* & *y*.  Please use the *color* keyword-argument or provide a 2D array with a single row if you intend to specify the same RGB or RGBA value for all points.\n"
     ]
    },
    {
     "data": {
      "image/png": "[encoded data removed]",
      "text/plain": [
       "<Figure size 576x396 with 1 Axes>"
      ]
     },
     "metadata": {},
     "output_type": "display_data"
    },
    {
     "data": {
      "text/plain": [
       "<AxesSubplot:title={'center':'UMAP Projection of 77 Documents'}>"
      ]
     },
     "execution_count": 339,
     "metadata": {},
     "output_type": "execute_result"
    }
   ],
   "source": [
    "umap = UMAPVisualizer()\n",
    "umap.fit(document_doc2vec, labels)\n",
    "umap.show()"
   ]
  },
  {
   "cell_type": "code",
   "execution_count": 337,
   "metadata": {},
   "outputs": [
    {
     "name": "stderr",
     "output_type": "stream",
     "text": [
      "*c* argument looks like a single numeric RGB or RGBA sequence, which should be avoided as value-mapping will have precedence in case its length matches with *x* & *y*.  Please use the *color* keyword-argument or provide a 2D array with a single row if you intend to specify the same RGB or RGBA value for all points.\n",
      "*c* argument looks like a single numeric RGB or RGBA sequence, which should be avoided as value-mapping will have precedence in case its length matches with *x* & *y*.  Please use the *color* keyword-argument or provide a 2D array with a single row if you intend to specify the same RGB or RGBA value for all points.\n"
     ]
    },
    {
     "data": {
      "image/png": "[encoded data removed]",
      "text/plain": [
       "<Figure size 576x396 with 1 Axes>"
      ]
     },
     "metadata": {},
     "output_type": "display_data"
    },
    {
     "data": {
      "text/plain": [
       "<AxesSubplot:title={'center':'TSNE Projection of 77 Documents'}>"
      ]
     },
     "execution_count": 337,
     "metadata": {},
     "output_type": "execute_result"
    }
   ],
   "source": [
    "tsne = TSNEVisualizer()\n",
    "tsne.fit(X, labels)\n",
    "tsne.show()"
   ]
  },
  {
   "cell_type": "markdown",
   "metadata": {},
   "source": [
    "### Entropy and Perplexity"
   ]
  },
  {
   "cell_type": "code",
   "execution_count": null,
   "metadata": {},
   "outputs": [],
   "source": [
    "sentences = []\n",
    "sentence_labels = []"
   ]
  },
  {
   "cell_type": "code",
   "execution_count": null,
   "metadata": {},
   "outputs": [],
   "source": [
    "all_raw = young_thc + old_thc + young_placebo + old_placebo\n"
   ]
  },
  {
   "cell_type": "code",
   "execution_count": null,
   "metadata": {},
   "outputs": [],
   "source": [
    "i = 0"
   ]
  },
  {
   "cell_type": "code",
   "execution_count": null,
   "metadata": {},
   "outputs": [],
   "source": [
    "thc = len(young_thc) + len(old_thc) - 1"
   ]
  },
  {
   "cell_type": "code",
   "execution_count": null,
   "metadata": {},
   "outputs": [],
   "source": [
    "for text in all_raw:\n",
    "    if i < thc:\n",
    "        label = 1\n",
    "    else:\n",
    "        label = 0\n",
    "    for sentence in text:\n",
    "        sentences.append(sentence.replace(\"\\n\", \"\").replace(\"\\\\\", \"\").replace(\"\\'\", \"'\"))\n",
    "        sentence_labels.append(label)\n",
    "    i += 1"
   ]
  },
  {
   "cell_type": "code",
   "execution_count": null,
   "metadata": {},
   "outputs": [],
   "source": [
    "all_clean = clean_young_thc + clean_old_thc + clean_young_placebo + clean_old_placebo"
   ]
  },
  {
   "cell_type": "code",
   "execution_count": null,
   "metadata": {},
   "outputs": [],
   "source": [
    "len(sentences), len(sentence_labels)"
   ]
  },
  {
   "cell_type": "code",
   "execution_count": null,
   "metadata": {},
   "outputs": [],
   "source": [
    "from gensim.models import Word2Vec\n"
   ]
  },
  {
   "cell_type": "code",
   "execution_count": null,
   "metadata": {},
   "outputs": [],
   "source": [
    "ny_address = \"/Users/bhargavvader/Downloads/Academics_Tech/word2vec_pre_trained/nytimes_cbow.reduced.txt\""
   ]
  },
  {
   "cell_type": "code",
   "execution_count": null,
   "metadata": {},
   "outputs": [],
   "source": [
    "google_address = \"/Users/bhargavvader/Downloads/Academics_Tech/word2vec_pre_trained/GoogleNews-vectors-negative300.bin\""
   ]
  },
  {
   "cell_type": "code",
   "execution_count": null,
   "metadata": {},
   "outputs": [],
   "source": [
    "w2v_model = gensim.models.KeyedVectors.load_word2vec_format(google_address, binary=True)"
   ]
  },
  {
   "cell_type": "code",
   "execution_count": null,
   "metadata": {},
   "outputs": [],
   "source": [
    "def sentence_entropy(sentence, model):\n",
    "    sentence_word_vectors = []\n",
    "    if len(sentence) >= 2:\n",
    "        for word in sentence:\n",
    "            try:\n",
    "                sentence_word_vectors.append(model[word])\n",
    "            except KeyError:\n",
    "                continue\n",
    "        distances = []\n",
    "        for i in range(0, len(sentence_word_vectors) - 1):\n",
    "            v = sentence_word_vectors[i+1]\n",
    "            v_ = sentence_word_vectors[i]\n",
    "            dist = np.dot(v, v_)/(np.linalg.norm(v)* np.linalg.norm(v_))\n",
    "            distances.append(dist)\n",
    "        mean_distance = np.mean(distances, axis=0)\n",
    "        semantic_variability = 0\n",
    "        for dist in distances:\n",
    "            semantic_variability += np.square(dist - mean_distance)\n",
    "        semantic_variability /= len(distances)\n",
    "        return semantic_variability"
   ]
  },
  {
   "cell_type": "code",
   "execution_count": null,
   "metadata": {},
   "outputs": [],
   "source": [
    "sentence_entropy(\"This is a sample sentence and we are writing a word in a sentence and story\", w2v_model)"
   ]
  },
  {
   "cell_type": "code",
   "execution_count": null,
   "metadata": {},
   "outputs": [],
   "source": [
    "sentence_entropy(\"cheese park dog random literature army country\", w2v_model)"
   ]
  },
  {
   "cell_type": "code",
   "execution_count": null,
   "metadata": {},
   "outputs": [],
   "source": [
    "import json"
   ]
  },
  {
   "cell_type": "code",
   "execution_count": null,
   "metadata": {},
   "outputs": [],
   "source": [
    "json_file_path = \"/Users/bhargavvader/open_source/comp-syn/vectors.json\""
   ]
  },
  {
   "cell_type": "code",
   "execution_count": null,
   "metadata": {},
   "outputs": [],
   "source": [
    "with open(json_file_path, 'r') as j:\n",
    "     content = json.loads(j.read())"
   ]
  },
  {
   "cell_type": "code",
   "execution_count": null,
   "metadata": {},
   "outputs": [],
   "source": [
    "word_color_vector = {}"
   ]
  },
  {
   "cell_type": "code",
   "execution_count": null,
   "metadata": {},
   "outputs": [],
   "source": [
    "for word in content:\n",
    "    word_color_vector[word['query']] = word['jzazbz_dist']"
   ]
  },
  {
   "cell_type": "code",
   "execution_count": null,
   "metadata": {},
   "outputs": [],
   "source": [
    "word_color_vector['body']"
   ]
  },
  {
   "cell_type": "code",
   "execution_count": null,
   "metadata": {},
   "outputs": [],
   "source": [
    "import scipy"
   ]
  },
  {
   "cell_type": "code",
   "execution_count": null,
   "metadata": {},
   "outputs": [],
   "source": [
    "def jensen_shannon(dist1, dist2):\n",
    "    \"\"\"\n",
    "    Calculates Jensen-Shannon (JS) divergence between two distributions\n",
    "\n",
    "    Args:\n",
    "        dist1 (array): first distribution\n",
    "        dist2 (array): second distribution\n",
    "\n",
    "    Returns:\n",
    "        js (float): JS divergence\n",
    "    \"\"\"\n",
    "    dist1 = np.array(dist1)\n",
    "    dist2 = np.array(dist2)\n",
    "\n",
    "    mean_dist = (dist1 + dist2) / 2.0\n",
    "    js = (\n",
    "        scipy.stats.entropy(dist1, mean_dist) + scipy.stats.entropy(dist2, mean_dist)\n",
    "    ) / 2.0\n",
    "    return js"
   ]
  },
  {
   "cell_type": "code",
   "execution_count": null,
   "metadata": {},
   "outputs": [],
   "source": [
    "missing_words = []"
   ]
  },
  {
   "cell_type": "code",
   "execution_count": null,
   "metadata": {},
   "outputs": [],
   "source": [
    "def sentence_color_entropy(sentence, word_color_vector):\n",
    "    sentence_word_vectors = []\n",
    "    if len(sentence) >= 2:\n",
    "        for word in sentence:\n",
    "            try:\n",
    "                sentence_word_vectors.append(word_color_vector[word])\n",
    "            except KeyError:\n",
    "                missing_words.append(word)\n",
    "                continue\n",
    "        distances = []\n",
    "        for i in range(0, len(sentence_word_vectors) - 1):\n",
    "            v = sentence_word_vectors[i+1]\n",
    "            v_ = sentence_word_vectors[i]\n",
    "            try:\n",
    "                dist = jensen_shannon(v, v_)\n",
    "                distances.append(dist)\n",
    "            except TypeError:\n",
    "                continue\n",
    "        mean_distance = np.mean(distances, axis=0)\n",
    "        semantic_variability = 0\n",
    "        for dist in distances:\n",
    "            semantic_variability += np.square(dist - mean_distance)\n",
    "        semantic_variability /= len(distances)\n",
    "        return semantic_variability"
   ]
  },
  {
   "cell_type": "code",
   "execution_count": null,
   "metadata": {},
   "outputs": [],
   "source": [
    "from transformers import BertTokenizer,BertForMaskedLM"
   ]
  },
  {
   "cell_type": "code",
   "execution_count": null,
   "metadata": {},
   "outputs": [],
   "source": [
    "import torch"
   ]
  },
  {
   "cell_type": "code",
   "execution_count": null,
   "metadata": {},
   "outputs": [],
   "source": [
    "import math"
   ]
  },
  {
   "cell_type": "code",
   "execution_count": null,
   "metadata": {},
   "outputs": [],
   "source": [
    "bertMaskedLM = BertForMaskedLM.from_pretrained('bert-base-uncased')"
   ]
  },
  {
   "cell_type": "code",
   "execution_count": null,
   "metadata": {},
   "outputs": [],
   "source": [
    "tokenizer = BertTokenizer.from_pretrained('bert-base-uncased')"
   ]
  },
  {
   "cell_type": "code",
   "execution_count": null,
   "metadata": {},
   "outputs": [],
   "source": [
    "def get_score(sentence, model, tokenizer):\n",
    "    tokenize_input = tokenizer.tokenize(sentence)\n",
    "    tensor_input = torch.tensor([tokenizer.convert_tokens_to_ids(tokenize_input)])\n",
    "    predictions = model(tensor_input)\n",
    "    # print(predictions[0])\n",
    "    # sentence_embedding, word_embedding = predictions[0], predictions[1]\n",
    "    loss_fct = torch.nn.CrossEntropyLoss()\n",
    "    loss = loss_fct(predictions[0].squeeze(),tensor_input.squeeze()).data \n",
    "    return math.exp(loss)"
   ]
  },
  {
   "cell_type": "code",
   "execution_count": null,
   "metadata": {},
   "outputs": [],
   "source": [
    "get_score(sentences[0], bertMaskedLM, tokenizer)"
   ]
  },
  {
   "cell_type": "code",
   "execution_count": null,
   "metadata": {},
   "outputs": [],
   "source": [
    "sentence_scores_BERT = []"
   ]
  },
  {
   "cell_type": "code",
   "execution_count": null,
   "metadata": {},
   "outputs": [],
   "source": [
    "for sentence in sentences:\n",
    "    try:\n",
    "        sentence_scores_BERT.append(get_score(sentence, bertMaskedLM, tokenizer))\n",
    "    except IndexError:\n",
    "        continue\n",
    "    except RuntimeError:\n",
    "        continue"
   ]
  },
  {
   "cell_type": "code",
   "execution_count": null,
   "metadata": {},
   "outputs": [],
   "source": [
    "sentence_entropys = []"
   ]
  },
  {
   "cell_type": "code",
   "execution_count": null,
   "metadata": {},
   "outputs": [],
   "source": [
    "for sentence in all_clean:\n",
    "    sentence_entropys.append(sentence_entropy(sentence, w2v_model))"
   ]
  },
  {
   "cell_type": "code",
   "execution_count": null,
   "metadata": {},
   "outputs": [],
   "source": [
    "sentence_color_entropys = []"
   ]
  },
  {
   "cell_type": "code",
   "execution_count": null,
   "metadata": {},
   "outputs": [],
   "source": [
    "for sentence in all_clean:\n",
    "    sentence_color_entropys.append(sentence_color_entropy(sentence, word_color_vector))"
   ]
  },
  {
   "cell_type": "code",
   "execution_count": null,
   "metadata": {},
   "outputs": [],
   "source": [
    "sentences[0:10]"
   ]
  },
  {
   "cell_type": "code",
   "execution_count": null,
   "metadata": {},
   "outputs": [],
   "source": [
    "sentence_labels[0:10]"
   ]
  },
  {
   "cell_type": "code",
   "execution_count": null,
   "metadata": {},
   "outputs": [],
   "source": [
    "sentence_scores_BERT[0:10]"
   ]
  },
  {
   "cell_type": "code",
   "execution_count": null,
   "metadata": {},
   "outputs": [],
   "source": [
    "sentence_labels[-155:]"
   ]
  },
  {
   "cell_type": "code",
   "execution_count": null,
   "metadata": {},
   "outputs": [],
   "source": [
    "sentence_labels[:453], sentence_labels[-154:]"
   ]
  },
  {
   "cell_type": "code",
   "execution_count": null,
   "metadata": {},
   "outputs": [],
   "source": [
    "np.mean(sentence_scores_BERT[:453]), np.mean(sentence_scores_BERT[-154:])"
   ]
  },
  {
   "cell_type": "code",
   "execution_count": null,
   "metadata": {},
   "outputs": [],
   "source": [
    "# signal!!"
   ]
  },
  {
   "cell_type": "code",
   "execution_count": null,
   "metadata": {},
   "outputs": [],
   "source": [
    "np.mean(sentence_entropys[0:51]), np.mean(sentence_entropys[52:77])"
   ]
  },
  {
   "cell_type": "code",
   "execution_count": null,
   "metadata": {},
   "outputs": [],
   "source": [
    "np.mean(sentence_color_entropys[0:51]), np.mean(sentence_color_entropys[52:77])"
   ]
  },
  {
   "cell_type": "code",
   "execution_count": null,
   "metadata": {},
   "outputs": [],
   "source": [
    "from transformers import GPT2LMHeadModel, GPT2TokenizerFast\n"
   ]
  },
  {
   "cell_type": "code",
   "execution_count": null,
   "metadata": {},
   "outputs": [],
   "source": [
    "model_id = 'gpt2-large'\n",
    "gpt_model = GPT2LMHeadModel.from_pretrained(model_id)\n",
    "gpt_tokenizer = GPT2Tokeniz erFast.from_pretrained(model_id)"
   ]
  },
  {
   "cell_type": "code",
   "execution_count": null,
   "metadata": {},
   "outputs": [],
   "source": [
    "from tqdm import tqdm"
   ]
  },
  {
   "cell_type": "code",
   "execution_count": null,
   "metadata": {},
   "outputs": [],
   "source": [
    "def gpt_ppl_score(sentence, model, tokenizer, stride=512):\n",
    "    encodings = tokenizer(sentence, return_tensors='pt')\n",
    "#     encodings = torch.tensor([tokenizer.convert_tokens_to_ids(tokenize_input)])\n",
    "    max_length = model.config.n_positions\n",
    "    lls = []\n",
    "    for i in tqdm(range(0, encodings.input_ids.size(1), stride)):\n",
    "        begin_loc = max(i + stride - max_length, 0)\n",
    "        end_loc = min(i + stride, encodings.input_ids.size(1))\n",
    "        trg_len = end_loc - i    # may be different from stride on last loop\n",
    "        input_ids = encodings.input_ids[:,begin_loc:end_loc]\n",
    "        target_ids = input_ids.clone()\n",
    "        target_ids[:,:-trg_len] = -100\n",
    "\n",
    "        with torch.no_grad():\n",
    "            outputs = model(input_ids, labels=target_ids)\n",
    "            log_likelihood = outputs[0] * trg_len\n",
    "\n",
    "        lls.append(log_likelihood)\n",
    "\n",
    "    ppl = torch.exp(torch.stack(lls).sum() / end_loc)\n",
    "    return ppl"
   ]
  },
  {
   "cell_type": "code",
   "execution_count": null,
   "metadata": {},
   "outputs": [],
   "source": [
    "# gpt_ppl_score(\"Hi how's it going?\", gpt_model, gpt_tokenizer)"
   ]
  },
  {
   "cell_type": "markdown",
   "metadata": {},
   "source": [
    "## Age and Dose"
   ]
  },
  {
   "cell_type": "code",
   "execution_count": null,
   "metadata": {},
   "outputs": [],
   "source": [
    "def avg_measures(raw_texts, cleaned_words):\n",
    "    sentence_scores_BERT = []\n",
    "    sentence_entropys = []\n",
    "    sentence_color_entropys = []\n",
    "    \n",
    "    sentences = []\n",
    "    \n",
    "    for text in raw_texts:\n",
    "        for line in text:\n",
    "            sentences.append(line)\n",
    "        \n",
    "    for sentence in sentences:\n",
    "        try:\n",
    "            sentence_scores_BERT.append(get_score(sentence, bertMaskedLM, tokenizer))\n",
    "        except IndexError:\n",
    "            continue\n",
    "        except RuntimeError:\n",
    "            continue\n",
    "    \n",
    "    for sentence in cleaned_words:\n",
    "        sentence_entropys.append(sentence_entropy(sentence, w2v_model))\n",
    "        \n",
    "    for sentence in cleaned_words:\n",
    "        sentence_color_entropys.append(sentence_color_entropy(sentence, word_color_vector))\n",
    "    \n",
    "    return np.mean(sentence_scores_BERT), np.mean(sentence_entropys), np.mean(sentence_color_entropys)"
   ]
  },
  {
   "cell_type": "code",
   "execution_count": null,
   "metadata": {},
   "outputs": [],
   "source": [
    "sentence_score_young_7_5, sentence_entropys_young_7_5, sentence_entropys_color_young_7_5 = avg_measures(young_7_5, clean_young_7_5)"
   ]
  },
  {
   "cell_type": "code",
   "execution_count": null,
   "metadata": {},
   "outputs": [],
   "source": [
    "sentence_score_young_7_5, sentence_entropys_young_7_5, sentence_entropys_color_young_7_5"
   ]
  },
  {
   "cell_type": "code",
   "execution_count": null,
   "metadata": {},
   "outputs": [],
   "source": [
    "sentence_score_young_15, sentence_entropys_young_15, sentence_entropys_color_young_15 = avg_measures(young_15, clean_young_15)"
   ]
  },
  {
   "cell_type": "code",
   "execution_count": null,
   "metadata": {},
   "outputs": [],
   "source": [
    "sentence_score_young_15, sentence_entropys_young_15, sentence_entropys_color_young_15"
   ]
  },
  {
   "cell_type": "code",
   "execution_count": null,
   "metadata": {},
   "outputs": [],
   "source": [
    "sentence_score_old_7_5, sentence_entropys_old_7_5, sentence_entropys_color_old_7_5 = avg_measures(old_7_5, clean_old_7_5)"
   ]
  },
  {
   "cell_type": "code",
   "execution_count": null,
   "metadata": {},
   "outputs": [],
   "source": [
    "sentence_score_old_7_5, sentence_entropys_old_7_5, sentence_entropys_color_old_7_5"
   ]
  },
  {
   "cell_type": "code",
   "execution_count": null,
   "metadata": {},
   "outputs": [],
   "source": [
    "sentence_score_old_15, sentence_entropys_old_15, sentence_entropys_color_old_15 = avg_measures(old_15, clean_old_15)"
   ]
  },
  {
   "cell_type": "code",
   "execution_count": null,
   "metadata": {},
   "outputs": [],
   "source": [
    "sentence_score_old_15, sentence_entropys_old_15, sentence_entropys_color_old_15"
   ]
  },
  {
   "cell_type": "code",
   "execution_count": null,
   "metadata": {},
   "outputs": [],
   "source": [
    "sentence_score_7_5, sentence_entropys_7_5, sentence_entropys_color_7_5 = avg_measures(young_7_5 + old_7_5, clean_young_7_5 + clean_old_7_5)"
   ]
  },
  {
   "cell_type": "code",
   "execution_count": null,
   "metadata": {},
   "outputs": [],
   "source": [
    "sentence_score_7_5, sentence_entropys_7_5, sentence_entropys_color_7_5"
   ]
  },
  {
   "cell_type": "code",
   "execution_count": null,
   "metadata": {},
   "outputs": [],
   "source": [
    "sentence_score_15, sentence_entropys_15, sentence_entropys_color_15 = avg_measures(young_15 + old_15, clean_young_15 + clean_old_15)"
   ]
  },
  {
   "cell_type": "code",
   "execution_count": null,
   "metadata": {},
   "outputs": [],
   "source": [
    "sentence_score_15, sentence_entropys_15, sentence_entropys_color_15"
   ]
  },
  {
   "cell_type": "markdown",
   "metadata": {},
   "source": [
    "## Data Consolidation\n",
    "\n"
   ]
  },
  {
   "cell_type": "code",
   "execution_count": null,
   "metadata": {},
   "outputs": [],
   "source": [
    "data_dict = {}"
   ]
  },
  {
   "cell_type": "code",
   "execution_count": null,
   "metadata": {},
   "outputs": [],
   "source": [
    "for study in study_data: \n",
    "    name, rest = study.split(\".\", 1)\n",
    "    other, amount = rest.split(\"_\")\n",
    "    texts = study_data[study]\n",
    "    cleaned = clean_texts(texts)\n",
    "    color_score = sentence_color_entropy(cleaned, word_color_vector)\n",
    "    semantic_score = sentence_entropy(cleaned, w2v_model)\n",
    "    sentence_scores = []\n",
    "    for sentence in texts:\n",
    "        try:\n",
    "            sentence_scores.append(get_score(sentence, bertMaskedLM, tokenizer))\n",
    "        except IndexError:\n",
    "            continue\n",
    "        except RuntimeError:\n",
    "            continue\n",
    "    avg_sentence_score = np.mean(sentence_scores)\n",
    "    data_dict[study] = [name, amount, texts, cleaned, semantic_score, color_score, avg_sentence_score]"
   ]
  },
  {
   "cell_type": "code",
   "execution_count": null,
   "metadata": {},
   "outputs": [],
   "source": [
    "import pandas as pd"
   ]
  },
  {
   "cell_type": "code",
   "execution_count": null,
   "metadata": {},
   "outputs": [],
   "source": [
    "study_df = pd.DataFrame.from_dict(data_dict, orient='index')"
   ]
  },
  {
   "cell_type": "code",
   "execution_count": null,
   "metadata": {},
   "outputs": [],
   "source": [
    "study_df.columns = ['Name', 'Dose', 'Raw Texts', 'Cleaned Texts', 'Semantic Entropy', 'Color Entropy', 'Average Sentence Perplexity']"
   ]
  },
  {
   "cell_type": "code",
   "execution_count": null,
   "metadata": {},
   "outputs": [],
   "source": [
    "study_df"
   ]
  },
  {
   "cell_type": "code",
   "execution_count": null,
   "metadata": {},
   "outputs": [],
   "source": [
    "study_df.to_csv(\"thc_study_data.csv\")"
   ]
  },
  {
   "cell_type": "code",
   "execution_count": null,
   "metadata": {},
   "outputs": [],
   "source": []
  }
 ],
 "metadata": {
  "kernelspec": {
   "display_name": "Python 3",
   "language": "python",
   "name": "python3"
  },
  "language_info": {
   "codemirror_mode": {
    "name": "ipython",
    "version": 3
   },
   "file_extension": ".py",
   "mimetype": "text/x-python",
   "name": "python",
   "nbconvert_exporter": "python",
   "pygments_lexer": "ipython3",
   "version": "3.9.4"
  }
 },
 "nbformat": 4,
 "nbformat_minor": 4
}
